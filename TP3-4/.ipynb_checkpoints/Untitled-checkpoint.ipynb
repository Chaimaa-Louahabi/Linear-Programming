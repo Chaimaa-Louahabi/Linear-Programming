{
 "cells": [
  {
   "cell_type": "markdown",
   "metadata": {},
   "source": [
    "<center>\n",
    "<h1> TP 3 et 4- Recherche Operationnelle </h1>\n",
    "<h1> Année 2020-2021 - 2e année département Sciences du Numérique </h1>\n",
    "<h1> Noms:  Ghanim - Louahabi</h1>\n",
    "<h1> Prénoms:  Ahmed - Chaimaa</h1>    \n",
    "</center>"
   ]
  },
  {
   "cell_type": "markdown",
   "metadata": {},
   "source": [
    "# 1. Programmation dynamique avec Bellman-Ford"
   ]
  },
  {
   "cell_type": "markdown",
   "metadata": {},
   "source": [
    "## 1.1  Calcul du plus court chemin entre deux sommets d’un graphe"
   ]
  },
  {
   "cell_type": "code",
   "execution_count": 55,
   "metadata": {},
   "outputs": [
    {
     "name": "stdout",
     "output_type": "stream",
     "text": [
      "Calcul du plus court chemin entre somment 1 et tous les autres sommets de G :\n",
      "\tL: [0.0; 3.0; 7.0; 9.0; 5.0; 12.0]\n",
      "\tPred: [0.0; 1.0; 2.0; 3.0; 1.0; 4.0]\n",
      "Le chemin le plus court entre A et B est de poids 3.0 : A -> B\n",
      "Le chemin le plus court entre A et C est de poids 7.0 : A -> B -> C\n",
      "Le chemin le plus court entre A et D est de poids 9.0 : A -> B -> C -> D\n",
      "Le chemin le plus court entre A et E est de poids 5.0 : A -> E\n",
      "Le chemin le plus court entre A et F est de poids 12.0 : A -> B -> C -> D -> F\n"
     ]
    }
   ],
   "source": [
    "include(\"Algorithme_Bellman_Ford.jl\")\n",
    "G = [0 3 0 0 5 0;\n",
    "     0 0 4 0 0 0;\n",
    "     0 0 0 2 0 0;\n",
    "     0 0 0 0 0 3;\n",
    "     0 -1 0 9 0 0;\n",
    "     0 0 0 0 0 0]\n",
    "s = 1\n",
    "println(\"Calcul du plus court chemin entre somment 1 et tous les autres sommets de G :\")\n",
    "L, Pred = Algorithme_Bellman_Ford_court(G, s)\n",
    "n = size(G,1)\n",
    "println(\"\\tL: $L\")\n",
    "println(\"\\tPred: $Pred\")\n",
    "noms = [\"A\" \"B\" \"C\" \"D\" \"E\" \"F\"]\n",
    "for i in 2:n\n",
    "    chemin = get_chemin(s, i, noms)\n",
    "    println(\"Le chemin le plus court entre A et $(noms[i]) est de poids $(L[i]) : $chemin\")\n",
    "end"
   ]
  },
  {
   "cell_type": "markdown",
   "metadata": {},
   "source": [
    "## 1.2 Calcul du plus long chemin entre deux sommets d’un graphe"
   ]
  },
  {
   "cell_type": "code",
   "execution_count": 57,
   "metadata": {},
   "outputs": [
    {
     "name": "stdout",
     "output_type": "stream",
     "text": [
      "Calcul du plus long chemin entre somment 1 et tous les autres sommets de G (graphe de l'exemple de sujet) :\n",
      "\tL: [0.0; 4.0; 8.0; 14.0; 5.0; 17.0]\n",
      "\tPred: [0.0; 5.0; 2.0; 5.0; 1.0; 4.0]\n",
      "Le chemin le plus long entre A et B est de poids 4.0 : A -> E -> B\n",
      "Le chemin le plus long entre A et C est de poids 8.0 : A -> E -> B -> C\n",
      "Le chemin le plus long entre A et D est de poids 14.0 : A -> E -> D\n",
      "Le chemin le plus long entre A et E est de poids 5.0 : A -> E\n",
      "Le chemin le plus long entre A et F est de poids 17.0 : A -> E -> D -> F\n"
     ]
    }
   ],
   "source": [
    "include(\"Algorithme_Bellman_Ford.jl\")\n",
    "G = [0 3 0 0 5 0;\n",
    "     0 0 4 0 0 0;\n",
    "     0 0 0 2 0 0;\n",
    "     0 0 0 0 0 3;\n",
    "     0 -1 0 9 0 0;\n",
    "     0 0 0 0 0 0]\n",
    "s = 1\n",
    "n = size(G,1)\n",
    "println(\"Calcul du plus long chemin entre somment 1 et tous les autres sommets de G (graphe de l'exemple de sujet) :\")\n",
    "L, Pred = Algorithme_Bellman_Ford_long(G, s)\n",
    "println(\"\\tL: $L\")\n",
    "println(\"\\tPred: $Pred\")\n",
    "noms = [\"A\" \"B\" \"C\" \"D\" \"E\" \"F\"]\n",
    "for i in 2:n\n",
    "    chemin = get_chemin(s, i, noms)\n",
    "    println(\"Le chemin le plus long entre A et $(noms[i]) est de poids $(L[i]) : $chemin\")\n",
    "end"
   ]
  },
  {
   "cell_type": "markdown",
   "metadata": {},
   "source": [
    "# 2. Extensions et adaptations"
   ]
  },
  {
   "cell_type": "markdown",
   "metadata": {},
   "source": [
    "## 2.1 Construction d’un réseau de transmission à vitesse maximale"
   ]
  },
  {
   "cell_type": "code",
   "execution_count": 36,
   "metadata": {},
   "outputs": [
    {
     "name": "stdout",
     "output_type": "stream",
     "text": [
      "Calcul du plus long chemin entre somment 1 et tous les autres sommets de G (graphe de l'exemple de sujet) :\n",
      "\tL: [Inf; 5.0; 4.0; 2.0; 5.0; 3.0; 5.0]\n",
      "\tPred: [0.0; 1.0; 2.0; 6.0; 7.0; 5.0; 5.0]\n"
     ]
    }
   ],
   "source": [
    "include(\"Algorithme_Bellman_Ford.jl\")\n",
    "G = [0 5 0 0 1 0 3;\n",
    "     5 0 4 0 0 0 0;\n",
    "     0 4 0 1 2 2 0;\n",
    "     0 0 1 0 0 2 0;\n",
    "     1 0 2 0 0 3 5;\n",
    "     0 0 2 2 3 0 0;\n",
    "     3 0 0 0 5 0 0]\n",
    "s = 1\n",
    "println(\"Calcul du plus long chemin entre somment 1 et tous les autres sommets de G (graphe de l'exemple de sujet) :\")\n",
    "L, Pred = Algorithme_Bellman_Ford_vit_max(G, s)\n",
    "println(\"\\tL: $L\")\n",
    "println(\"\\tPred: $Pred\")"
   ]
  },
  {
   "cell_type": "markdown",
   "metadata": {},
   "source": [
    "## 2.2 Fiabilité de procédé de fabrication de semi-conducteurs"
   ]
  },
  {
   "cell_type": "markdown",
   "metadata": {},
   "source": [
    "a) On cherche à maximiser le produit $\\prod_{i=1}^{k-1} p(x_{i}, x_{i+1})$ pour un chemin $x_{1}, .., x_{k} $. Si on applique le log (qui est continue et croissant sur $R^{+}_{*}$) sur cette relation, on obtient $\\sum_{i=1}^{k-1} log(p(x_{i}, x_{i+1}))$ . Donc le problème est équivalent à un problème de plus long chemin dans le graphe où les poids de l'arc $(x_{i}, x_{j})$ est moins (-) le log de la probabilité $p(x_{i}, x_{j})$ car les probabilitées sont comprises entre [0,1] et donc leur log est négatif.Il faut aussi remplacer toute probabilité nulle par 1.\n",
    "Ainsi, si PLC est le plus long chemin trouvé, alors la meilleure probabilté de succès est : $10^{-PLC}$."
   ]
  },
  {
   "cell_type": "code",
   "execution_count": 35,
   "metadata": {},
   "outputs": [
    {
     "name": "stdout",
     "output_type": "stream",
     "text": [
      "La meilleure probabilté de succès est : 0.6383531048824466\n",
      "Le chemin le plus sûr : MP -> S1 -> A2 -> D1 -> FX -> PF\n"
     ]
    }
   ],
   "source": [
    "include(\"Algorithme_Bellman_Ford.jl\")\n",
    "# Les sommets du graphe seront numérotés dans l'ordre suivant:\n",
    "# MP S1 S2 S3 A1 A2 A3 A4 D1 D2 FG FX PF\n",
    "G = [0 -log(0.98) -log(0.97) -log(0.99) 0 0 0 0 0 0 0 0 0;\n",
    "     0 0 0 0 -log(0.96) -log(0.95) 0 0 0 0 0 0 0;\n",
    "     0 0 0 0 0 -log(0.97) -log(0.98) 0 0 0 0 0 0;\n",
    "     0 0 0 0 0 0 -log(0.95) -log(0.93) 0 0 0 0 0;\n",
    "     0 0 0 0 0 0 0 0 -log(0.99) 0 0 0 0;\n",
    "     0 0 0 0 0 0 0 0 -log(0.96) 0 0 0 0;\n",
    "     0 0 0 0 0 0 0 0 -log(0.97) -log(0.98) 0 0 0;\n",
    "     0 0 0 0 0 0 0 0 0 -log(0.99) 0 0 0;\n",
    "     0 0 0 0 0 0 0 0 0 0 -log(0.98) -log(0.99) 0;\n",
    "     0 0 0 0 0 0 0 0 0 0 -log(0.96) -log(0.99) 0;\n",
    "     0 0 0 0 0 0 0 0 0 0 0 0 -log(0.99);\n",
    "     0 0 0 0 0 0 0 0 0 0 0 0 -log(0.93);\n",
    "     0 0 0 0 0 0 0 0 0 0 0 0 0]\n",
    "\n",
    "s = 1\n",
    "L, Pred = Algorithme_Bellman_Ford_long(G, s)\n",
    "proba_max = 10^(-L[end])\n",
    "println(\"La meilleure probabilté de succès est : $proba_max\")\n",
    "noms = [\"MP\" \"S1\" \"S2\" \"S3\" \"A1\" \"A2\" \"A3\" \"A4\" \"D1\" \"D2\" \"FG\" \"FX\" \"PF\"]\n",
    "chemin = get_chemin(s, size(G, 1), noms)\n",
    "println(\"Le chemin le plus sûr : $chemin\")\n",
    "#println(\"\\tL: $L\")\n",
    "#println(\"\\tPred: $Pred\")"
   ]
  },
  {
   "cell_type": "markdown",
   "metadata": {},
   "source": [
    "b) Modifier l’algorithme de Bellman-Ford pour l’adapter à la recherche d’un plus sûr chemin."
   ]
  },
  {
   "cell_type": "code",
   "execution_count": 36,
   "metadata": {},
   "outputs": [
    {
     "name": "stdout",
     "output_type": "stream",
     "text": [
      "La meilleure probabilté de succès est : 0.9036365183999999\n",
      "Le chemin le plus sûr : MP -> S1 -> A1 -> D1 -> FG -> PF\n"
     ]
    }
   ],
   "source": [
    "include(\"Algorithme_Bellman_Ford.jl\")\n",
    "# Les sommets du graphe seront numérotés dans l'ordre suivant:\n",
    "# MP S1 S2 S3 A1 A2 A3 A4 D1 D2 FG FX PF\n",
    "G = [0 0.98 0.97 0.99 0 0 0 0 0 0 0 0 0;\n",
    "     0 0 0 0 0.96 0.95 0 0 0 0 0 0 0;\n",
    "     0 0 0 0 0 0.97 0.98 0 0 0 0 0 0;\n",
    "     0 0 0 0 0 0 0.95 0.93 0 0 0 0 0;\n",
    "     0 0 0 0 0 0 0 0 0.99 0 0 0 0;\n",
    "     0 0 0 0 0 0 0 0 0.96 0 0 0 0;\n",
    "     0 0 0 0 0 0 0 0 0.97 0.98 0 0 0;\n",
    "     0 0 0 0 0 0 0 0 0 0.99 0 0 0;\n",
    "     0 0 0 0 0 0 0 0 0 0 0.98 0.99 0;\n",
    "     0 0 0 0 0 0 0 0 0 0 0.96 0.99 0;\n",
    "     0 0 0 0 0 0 0 0 0 0 0 0 0.99;\n",
    "     0 0 0 0 0 0 0 0 0 0 0 0 0.93;\n",
    "     0 0 0 0 0 0 0 0 0 0 0 0 0]\n",
    "\n",
    "s = 1\n",
    "L, Pred = Algorithme_Bellman_Ford_sur(G, s)\n",
    "proba_max = L[end]\n",
    "println(\"La meilleure probabilté de succès est : $proba_max\")\n",
    "chemin = get_chemin(s, size(G, 1))\n",
    "println(\"Le chemin le plus sûr : $chemin\")\n",
    "#println(\"\\tL: $L\")\n",
    "#println(\"\\tPred: $Pred\")"
   ]
  },
  {
   "cell_type": "code",
   "execution_count": null,
   "metadata": {},
   "outputs": [],
   "source": []
  }
 ],
 "metadata": {
  "kernelspec": {
   "display_name": "Julia 1.4.2",
   "language": "julia",
   "name": "julia-1.4"
  },
  "language_info": {
   "file_extension": ".jl",
   "mimetype": "application/julia",
   "name": "julia",
   "version": "1.4.2"
  }
 },
 "nbformat": 4,
 "nbformat_minor": 2
}
