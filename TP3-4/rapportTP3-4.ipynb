{
 "cells": [
  {
   "cell_type": "markdown",
   "metadata": {},
   "source": [
    "<center>\n",
    "<h1> TP 3 et 4- Recherche Operationnelle </h1>\n",
    "<h1> Année 2020-2021 - 2e année département Sciences du Numérique </h1>\n",
    "<h1> Noms:  Ghanim - Louahabi</h1>\n",
    "<h1> Prénoms:  Ahmed - Chaimaa</h1>    \n",
    "</center>"
   ]
  },
  {
   "cell_type": "markdown",
   "metadata": {},
   "source": [
    "# 1. Programmation dynamique avec Bellman-Ford"
   ]
  },
  {
   "cell_type": "markdown",
   "metadata": {},
   "source": [
    "###  Fonctions Auxiliaires Nécessaires Pour La Suite"
   ]
  },
  {
   "cell_type": "code",
   "execution_count": 87,
   "metadata": {},
   "outputs": [
    {
     "data": {
      "text/plain": [
       "get_chemin (generic function with 1 method)"
      ]
     },
     "execution_count": 87,
     "metadata": {},
     "output_type": "execute_result"
    }
   ],
   "source": [
    "#fonction auxiliaire qui retourne une liste de tuples, chaque tuple est un arc du graphe G\n",
    "function get_arcs(G)\n",
    "    u = []\n",
    "    n = size(G,1)\n",
    "    for i in 1:n\n",
    "        for j in 1:n\n",
    "            if G[i,j] != 0\n",
    "                push!(u,(i,j))\n",
    "            end\n",
    "        end\n",
    "    end\n",
    "    return u\n",
    "end\n",
    "#fonction auxiliaire qui retourne une liste de predesseceurs de sommet i\n",
    "function get_pred(G, i)\n",
    "    u = []\n",
    "    n = size(G,1)\n",
    "    for j in 1:n\n",
    "        if G[j,i] != 0\n",
    "            push!(u,j)\n",
    "        end\n",
    "    end\n",
    "    return u\n",
    "end\n",
    "# Fonction auxiliaire qui retourne un string decrivant le chemin entre source et destination\n",
    "# noms : liste des noms des sommets# Pred : liste des predecésseurs\n",
    "function get_chemin(source, destination, noms, Pred)\n",
    "    chemin = noms[destination]\n",
    "    j = destination\n",
    "    while Int(Pred[j]) != source\n",
    "        k = Int(Pred[j])\n",
    "        chemin  = string(noms[k],\" -> \", chemin)\n",
    "        j = k\n",
    "    end\n",
    "    chemin  = string(noms[source],\" -> \", chemin)\n",
    "    return chemin\n",
    "end"
   ]
  },
  {
   "cell_type": "markdown",
   "metadata": {},
   "source": [
    "## 1.1  Calcul du plus court chemin entre deux sommets d’un graphe"
   ]
  },
  {
   "cell_type": "code",
   "execution_count": 89,
   "metadata": {},
   "outputs": [
    {
     "name": "stdout",
     "output_type": "stream",
     "text": [
      "Calcul du plus court chemin entre somment 1 et tous les autres sommets de G :\n",
      "\tL: [0.0; 3.0; 7.0; 9.0; 5.0; 12.0]\n",
      "\tPred: [0.0; 1.0; 2.0; 3.0; 1.0; 4.0]\n",
      "Le chemin le plus court entre A et B est de poids 3.0 : A -> B\n",
      "Le chemin le plus court entre A et C est de poids 7.0 : A -> B -> C\n",
      "Le chemin le plus court entre A et D est de poids 9.0 : A -> B -> C -> D\n",
      "Le chemin le plus court entre A et E est de poids 5.0 : A -> E\n",
      "Le chemin le plus court entre A et F est de poids 12.0 : A -> B -> C -> D -> F\n"
     ]
    }
   ],
   "source": [
    "#  1) G est une matrice dont le nombre de lignes et de colonnes est égal au nombre \n",
    "# de sommets du graphe\n",
    "#  2) s est le sommmet source, on va caluler le plus court chemin entre s et tous \n",
    "# les autres sommets d’un graphe quelconque\n",
    "# @return L : liste de taille = nombre de sommets de G, L(i) contient la \n",
    "# distance minimale ente s et le sommet i\n",
    "function Algorithme_Bellman_Ford_court(G, s)\n",
    "    # n : nombre de sommets\n",
    "    n = size(G, 1)\n",
    "    # tableau des distances depuis le sommet s\n",
    "    L = zeros(n,1)\n",
    "    Pred = zeros(n,1)\n",
    "    arcs = get_arcs(G)\n",
    "    for i = 1:n\n",
    "        if i != s\n",
    "            L[i] = Inf\n",
    "        end\n",
    "    end\n",
    "    for k in 1:n\n",
    "        for a in arcs\n",
    "            if L[a[2]] > (L[a[1]] + G[a[1],a[2]])\n",
    "                L[a[2]] = L[a[1]] + G[a[1],a[2]]\n",
    "                Pred[a[2]] = a[1]\n",
    "            end\n",
    "        end\n",
    "    end\n",
    "    return L,Pred\n",
    "end\n",
    "G = [0 3 0 0 5 0;\n",
    "     0 0 4 0 0 0;\n",
    "     0 0 0 2 0 0;\n",
    "     0 0 0 0 0 3;\n",
    "     0 -1 0 9 0 0;\n",
    "     0 0 0 0 0 0]\n",
    "s = 1\n",
    "println(\"Calcul du plus court chemin entre somment 1 et tous les autres sommets de G :\")\n",
    "L, Pred = Algorithme_Bellman_Ford_court(G, s)\n",
    "n = size(G,1)\n",
    "println(\"\\tL: $L\")\n",
    "println(\"\\tPred: $Pred\")\n",
    "noms = [\"A\" \"B\" \"C\" \"D\" \"E\" \"F\"]\n",
    "for i in 2:n\n",
    "    chemin = get_chemin(s, i, noms, Pred)\n",
    "    println(\"Le chemin le plus court entre A et $(noms[i]) est de poids $(L[i]) : $chemin\")\n",
    "end"
   ]
  },
  {
   "cell_type": "markdown",
   "metadata": {},
   "source": [
    "## 1.2 Calcul du plus long chemin entre deux sommets d’un graphe"
   ]
  },
  {
   "cell_type": "markdown",
   "metadata": {},
   "source": [
    "La relation de récurrence devienne  $f_{i}^{k} = max_{\\forall j \\in Pred(i)}(f_{j}^{k-1}+ c_{ji})$. Il faut initialiser le sommet d'entrée par zero, et les autres sommets par $- \\infty$."
   ]
  },
  {
   "cell_type": "code",
   "execution_count": 95,
   "metadata": {},
   "outputs": [
    {
     "name": "stdout",
     "output_type": "stream",
     "text": [
      "Calcul du plus long chemin entre somment 1 et tous les autres sommets de G (graphe de l'exemple de sujet) :\n",
      "\tL: [0.0; 4.0; 8.0; 14.0; 5.0; 17.0]\n",
      "\tPred: [0.0; 5.0; 2.0; 5.0; 1.0; 4.0]\n",
      "Le chemin le plus long entre A et B est de poids 4.0 : A -> E -> B\n",
      "Le chemin le plus long entre A et C est de poids 8.0 : A -> E -> B -> C\n",
      "Le chemin le plus long entre A et D est de poids 14.0 : A -> E -> D\n",
      "Le chemin le plus long entre A et E est de poids 5.0 : A -> E\n",
      "Le chemin le plus long entre A et F est de poids 17.0 : A -> E -> D -> F\n"
     ]
    }
   ],
   "source": [
    "#Calcul du plus long chemin\n",
    "function Algorithme_Bellman_Ford_long(G, s)\n",
    "    # n : nombre de sommets\n",
    "    n = size(G, 1)\n",
    "    # tableau des distances depuis le sommet s\n",
    "    L = zeros(n,1)\n",
    "    Pred = zeros(n,1)\n",
    "    arcs = get_arcs(G)\n",
    "    for i = 1:n\n",
    "        if i != s\n",
    "            L[i] = -Inf\n",
    "        end\n",
    "    end\n",
    "    for k in 1:n\n",
    "        for a in arcs\n",
    "            if L[a[2]] < (L[a[1]] + G[a[1],a[2]])\n",
    "                L[a[2]] = L[a[1]] + G[a[1],a[2]]\n",
    "                Pred[a[2]] = a[1]\n",
    "            end\n",
    "        end\n",
    "    end\n",
    "    return L,Pred\n",
    "end\n",
    "# L'Exemple du sujet\n",
    "G = [0 3 0 0 5 0;\n",
    "     0 0 4 0 0 0;\n",
    "     0 0 0 2 0 0;\n",
    "     0 0 0 0 0 3;\n",
    "     0 -1 0 9 0 0;\n",
    "     0 0 0 0 0 0]\n",
    "s = 1\n",
    "n = size(G,1)\n",
    "println(\"Calcul du plus long chemin entre somment 1 et tous les autres sommets de G (graphe de l'exemple de sujet) :\")\n",
    "L, Pred = Algorithme_Bellman_Ford_long(G, s)\n",
    "println(\"\\tL: $L\")\n",
    "println(\"\\tPred: $Pred\")\n",
    "noms = [\"A\" \"B\" \"C\" \"D\" \"E\" \"F\"]\n",
    "for i in 2:n\n",
    "    chemin = get_chemin(s, i, noms, Pred)\n",
    "    println(\"Le chemin le plus long entre A et $(noms[i]) est de poids $(L[i]) : $chemin\")\n",
    "end"
   ]
  },
  {
   "cell_type": "markdown",
   "metadata": {},
   "source": [
    "# 2. Extensions et adaptations"
   ]
  },
  {
   "cell_type": "markdown",
   "metadata": {},
   "source": [
    "## 2.1 Construction d’un réseau de transmission à vitesse maximale"
   ]
  },
  {
   "cell_type": "markdown",
   "metadata": {},
   "source": [
    "La relation de récurrence devienne  $f_{i}^{k} = max_{\\forall j \\in Pred(i)}(min (f_{j}^{k-1}, c_{ji}))$. Il faut également initialiser le sommet correspondant au processeur central par $+ \\infty$, et les autres sommets par $- \\infty$."
   ]
  },
  {
   "cell_type": "code",
   "execution_count": 94,
   "metadata": {},
   "outputs": [
    {
     "name": "stdout",
     "output_type": "stream",
     "text": [
      "Calcul des chemins de vitesses maximales reliant le processeur central P à tous les autres processeurs K du réseau.. \n",
      "\tL: [Inf; 5.0; 4.0; 2.0; 3.0; 3.0; 3.0]\n",
      "\tPred: [0.0; 1.0; 2.0; 6.0; 7.0; 5.0; 1.0]\n",
      "La vitesse max entre le processeur central et P1 est 5.0 passant par le chemin : PC -> P1\n",
      "La vitesse max entre le processeur central et P2 est 4.0 passant par le chemin : PC -> P1 -> P2\n",
      "La vitesse max entre le processeur central et P3 est 2.0 passant par le chemin : PC -> P6 -> P4 -> P5 -> P3\n",
      "La vitesse max entre le processeur central et P4 est 3.0 passant par le chemin : PC -> P6 -> P4\n",
      "La vitesse max entre le processeur central et P5 est 3.0 passant par le chemin : PC -> P6 -> P4 -> P5\n",
      "La vitesse max entre le processeur central et P6 est 3.0 passant par le chemin : PC -> P6\n"
     ]
    }
   ],
   "source": [
    "function Algorithme_Bellman_Ford_vit_max(G, s)\n",
    "    # n : nombre de sommets\n",
    "    n = size(G, 1)\n",
    "    # tableau des distances depuis le sommet s\n",
    "    L = zeros(n,1)\n",
    "    # Tableau des prédécesseurs dans le chemin final.\n",
    "    Pred = zeros(n,1)\n",
    "    for i = 1:n\n",
    "        if i != s\n",
    "            L[i] = -Inf\n",
    "        end\n",
    "    end\n",
    "    L[s] = Inf\n",
    "    for k in 1:n\n",
    "        for i in 2:n #pour chaque sommet i\n",
    "            p = get_pred(G, i)\n",
    "            for j in p# pour chaque prédécesseur j de i\n",
    "                if L[i] < min(L[j] , G[j,i])\n",
    "                    L[i] = min(L[j] , G[j,i])\n",
    "                    Pred[i] = j\n",
    "                end\n",
    "            end\n",
    "        end\n",
    "    end\n",
    "    return L,Pred\n",
    "end\n",
    "## L'exemple du sujet\n",
    "G = [0 5 0 0 1 0 3;\n",
    "     5 0 4 0 0 0 0;\n",
    "     0 4 0 1 2 2 0;\n",
    "     0 0 1 0 0 2 0;\n",
    "     1 0 2 0 0 3 5;\n",
    "     0 0 2 2 3 0 0;\n",
    "     3 0 0 0 5 0 0]\n",
    "s = 1\n",
    "n = size(G,1)\n",
    "println(\"Calcul des chemins de vitesses maximales reliant le processeur central P à tous les autres processeurs K du réseau.. \")\n",
    "L, Pred = Algorithme_Bellman_Ford_vit_max(G, s)\n",
    "noms = [\"PC\" \"P1\" \"P2\" \"P3\" \"P4\" \"P5\" \"P6\"]\n",
    "## Affichage des résultats\n",
    "println(\"\\tL: $L\")\n",
    "println(\"\\tPred: $Pred\")\n",
    "for i in 2:n\n",
    "    chemin = get_chemin(s, i, noms, Pred)\n",
    "    println(\"La vitesse max entre le processeur central et $(noms[i]) est $(L[i]) passant par le chemin : $chemin\")\n",
    "end"
   ]
  },
  {
   "cell_type": "markdown",
   "metadata": {},
   "source": [
    "## 2.2 Fiabilité de procédé de fabrication de semi-conducteurs"
   ]
  },
  {
   "cell_type": "markdown",
   "metadata": {},
   "source": [
    "## a)  \n",
    "On cherche à maximiser le produit $\\prod_{i=1}^{k-1} p(x_{i}, x_{i+1})$ pour un chemin $x_{1}, .., x_{k} $. Si on applique le log (qui est continue et croissant sur $R^{+}_{*}$) sur cette relation, on obtient $\\sum_{i=1}^{k-1} log(p(x_{i}, x_{i+1}))$ . Donc le problème est équivalent à un problème de plus long chemin dans le graphe où les poids de l'arc $(x_{i}, x_{j})$ est le log de la probabilité $p(x_{i}, x_{j})$ .\n",
    "Ainsi, si PLC est le plus long chemin trouvé, alors la meilleure probabilté de succès est : $10^{PLC}$."
   ]
  },
  {
   "cell_type": "code",
   "execution_count": 93,
   "metadata": {},
   "outputs": [
    {
     "name": "stdout",
     "output_type": "stream",
     "text": [
      "La meilleure probabilté de succès est : 0.7919028740245638\n"
     ]
    },
    {
     "data": {
      "text/plain": [
       "\"MP -> S1 -> A1 -> D1 -> FG -> PF\""
      ]
     },
     "execution_count": 93,
     "metadata": {},
     "output_type": "execute_result"
    }
   ],
   "source": [
    "# L'Exemple du sujet\n",
    "# Les sommets du graphe seront numérotés dans l'ordre suivant:\n",
    "# MP S1 S2 S3 A1 A2 A3 A4 D1 D2 FG FX PF\n",
    "G = [0 log(0.98) log(0.97) log(0.99) 0 0 0 0 0 0 0 0 0;\n",
    "     0 0 0 0 log(0.96) log(0.95) 0 0 0 0 0 0 0;\n",
    "     0 0 0 0 0 log(0.97) log(0.98) 0 0 0 0 0 0;\n",
    "     0 0 0 0 0 0 log(0.95) log(0.93) 0 0 0 0 0;\n",
    "     0 0 0 0 0 0 0 0 log(0.99) 0 0 0 0;\n",
    "     0 0 0 0 0 0 0 0 log(0.96) 0 0 0 0;\n",
    "     0 0 0 0 0 0 0 0 log(0.97) log(0.98) 0 0 0;\n",
    "     0 0 0 0 0 0 0 0 0 log(0.99) 0 0 0;\n",
    "     0 0 0 0 0 0 0 0 0 0 log(0.98) log(0.99) 0;\n",
    "     0 0 0 0 0 0 0 0 0 0 log(0.96) log(0.99) 0;\n",
    "     0 0 0 0 0 0 0 0 0 0 0 0 log(0.99);\n",
    "     0 0 0 0 0 0 0 0 0 0 0 0 log(0.93);\n",
    "     0 0 0 0 0 0 0 0 0 0 0 0 0]\n",
    "\n",
    "s = 1\n",
    "L, Pred = Algorithme_Bellman_Ford_long(G, s)\n",
    "proba_max = 10^(L[end])\n",
    "println(\"La meilleure probabilté de succès est : $proba_max\")\n",
    "noms = [\"MP\" \"S1\" \"S2\" \"S3\" \"A1\" \"A2\" \"A3\" \"A4\" \"D1\" \"D2\" \"FG\" \"FX\" \"PF\"]\n",
    "chemin = get_chemin(s, size(G, 1), noms, Pred)\n",
    "#println(\"\\tL: $L\")\n",
    "#println(\"\\tPred: $Pred\")"
   ]
  },
  {
   "cell_type": "markdown",
   "metadata": {},
   "source": [
    "### b) Modifier l’algorithme de Bellman-Ford pour l’adapter à la recherche d’un plus sûr chemin.\n",
    " La relation de récurrence  devienne : $ f_{i}^{k} = max_{\\forall j \\in Pred(i)}(f_{j}^{k-1}* c_{ji})$. On initialise le sommet correspondant à l'entrée du processus de fabrication par 1 (l'élément neutre de la multiplication), et les autres sommets par zero."
   ]
  },
  {
   "cell_type": "code",
   "execution_count": 92,
   "metadata": {},
   "outputs": [
    {
     "name": "stdout",
     "output_type": "stream",
     "text": [
      "La meilleure probabilté de succès est : 0.9036365183999999\n",
      "Le chemin le plus sûr : MP -> S1 -> A1 -> D1 -> FG -> PF\n"
     ]
    }
   ],
   "source": [
    "# calcul du chemin le plus sûr\n",
    "function Algorithme_Bellman_Ford_sur(G, s)\n",
    "    # n : nombre de sommets\n",
    "    n = size(G, 1)\n",
    "    # tableau des distances depuis le sommet s\n",
    "    L = zeros(n,1)\n",
    "    Pred = zeros(n,1)\n",
    "    L[1] = 1\n",
    "    arcs = get_arcs(G)\n",
    "    for k in 1:n\n",
    "        for a in arcs\n",
    "            if L[a[2]] < (L[a[1]] * G[a[1],a[2]])\n",
    "                L[a[2]] = L[a[1]] * G[a[1],a[2]]\n",
    "                Pred[a[2]] = a[1]\n",
    "            end\n",
    "        end\n",
    "    end\n",
    "    return L,Pred\n",
    "end\n",
    "# Exemple du sujet\n",
    "# Les sommets du graphe seront numérotés dans l'ordre suivant:\n",
    "# MP S1 S2 S3 A1 A2 A3 A4 D1 D2 FG FX PF\n",
    "G = [0 0.98 0.97 0.99 0 0 0 0 0 0 0 0 0;\n",
    "     0 0 0 0 0.96 0.95 0 0 0 0 0 0 0;\n",
    "     0 0 0 0 0 0.97 0.98 0 0 0 0 0 0;\n",
    "     0 0 0 0 0 0 0.95 0.93 0 0 0 0 0;\n",
    "     0 0 0 0 0 0 0 0 0.99 0 0 0 0;\n",
    "     0 0 0 0 0 0 0 0 0.96 0 0 0 0;\n",
    "     0 0 0 0 0 0 0 0 0.97 0.98 0 0 0;\n",
    "     0 0 0 0 0 0 0 0 0 0.99 0 0 0;\n",
    "     0 0 0 0 0 0 0 0 0 0 0.98 0.99 0;\n",
    "     0 0 0 0 0 0 0 0 0 0 0.96 0.99 0;\n",
    "     0 0 0 0 0 0 0 0 0 0 0 0 0.99;\n",
    "     0 0 0 0 0 0 0 0 0 0 0 0 0.93;\n",
    "     0 0 0 0 0 0 0 0 0 0 0 0 0]\n",
    "\n",
    "s = 1\n",
    "L, Pred = Algorithme_Bellman_Ford_sur(G, s)\n",
    "proba_max = L[end]\n",
    "println(\"La meilleure probabilté de succès est : $proba_max\")\n",
    "noms = [\"MP\" \"S1\" \"S2\" \"S3\" \"A1\" \"A2\" \"A3\" \"A4\" \"D1\" \"D2\" \"FG\" \"FX\" \"PF\"]\n",
    "chemin = get_chemin(s, size(G, 1), noms, Pred)\n",
    "println(\"Le chemin le plus sûr : $chemin\")\n",
    "#println(\"\\tL: $L\")\n",
    "#println(\"\\tPred: $Pred\")"
   ]
  },
  {
   "cell_type": "markdown",
   "metadata": {},
   "source": [
    "### Remarque:\n",
    "Le calcul de la probabilité de succès est beaucoup plus précis dans l'approche 'b', vue qu'elle est calculée directemnt, pas  comme la méthode équivalente où l'on applique le log et puis sa fonction inverse, ce qui diminue la précision de calcul."
   ]
  },
  {
   "cell_type": "markdown",
   "metadata": {},
   "source": []
  }
 ],
 "metadata": {
  "kernelspec": {
   "display_name": "Julia 1.4.2",
   "language": "julia",
   "name": "julia-1.4"
  },
  "language_info": {
   "file_extension": ".jl",
   "mimetype": "application/julia",
   "name": "julia",
   "version": "1.4.2"
  }
 },
 "nbformat": 4,
 "nbformat_minor": 2
}
