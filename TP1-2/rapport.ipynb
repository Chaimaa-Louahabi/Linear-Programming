{
 "cells": [
  {
   "cell_type": "markdown",
   "metadata": {},
   "source": [
    "<center>\n",
    "<h1> TP1 et 2- Recherche Operationnelle </h1>\n",
    "<h1> Année 2020-2021 - 2e année département Sciences du Numérique </h1>\n",
    "<h1> Noms:  Ghanim - Louahabi</h1>\n",
    "<h1> Prénoms:  Ahmed - Chaimaa</h1>    \n",
    "</center>"
   ]
  },
  {
   "cell_type": "code",
   "execution_count": 15,
   "metadata": {},
   "outputs": [],
   "source": [
    "#importer les packages utiles, le manager de package Pkg etant un package\n",
    "#import Pkg; Pkg.add(\"Cbc\")\n",
    "#Pkg.add(\"JuMP\")"
   ]
  },
  {
   "cell_type": "markdown",
   "metadata": {},
   "source": [
    "# Applications en optimisation pour l’e-commerce\nEtude",
    "## Cas particulier 1"
   ]
  },
  {
   "cell_type": "code",
   "execution_count": null,
   "metadata": {},
   "outputs": [],
   "source": [
    "# fonctionne pour JuMP version 0.21.5\n",
    "using Cbc\n",
    "using JuMP\n",
    "\n",
    "# data\n",
    "nb_mag = 3 # nombre de magasins disponibles\n",
    "nb_fl = 2 # nombre de fluides\n",
    "nb_dem = 2 #nombre de demandes/clients\n",
    "C = [1 1;2 3; 3 2] # Coûts  unitaires  de  disponibilité par magasin (Cij coût de Produit_j au magasin i)\n",
    "S = [2.5 1; 1 2; 2 1] # Stocks de produits par magasin\n",
    "D = [2 0; 1 3] # Produits demandés par commande\n",
    "\n",
    "# set optimizer\n",
    "model = Model(Cbc.Optimizer)\n",
    "\n",
    "# Q[i,j,k] la quantité de fluide j prise du magasin i pour le client k\n",
    "@variable(model, Q[1:nb_mag, 1:nb_fl , 1:nb_dem] >= 0)\n",
    "\n",
    "# define objective function\n",
    "@objective(model, Min, sum(sum(sum(C[i,j]*Q[i,j,k] for i in 1:nb_mag) for j in 1:nb_fl) for k in 1:nb_dem))\n",
    "\n",
    "# Chaque demande doit être satisfaite dans sa totalité.\n",
    "for k in 1 : nb_dem\n",
    "    for j in 1:nb_fl\n",
    "        @constraint(model, sum(Q[i,j,k] for i in 1:nb_mag) == D[k,j])\n",
    "    end\n",
    "end\n",
    "#La quantité d'un fluide prise d'un magasin ne peut pas dépasser la quantité disponible au stock\n",
    "for i in 1:nb_mag \n",
    "    for j in 1:nb_fl\n",
    "        @constraint(model, sum(Q[i,j,k] for k in 1:nb_dem)  <= S[i,j])\n",
    "    end\n",
    "end\n",
    "# run optimization\n",
    "optimize!(model)"
   ]
  },
  {
   "cell_type": "code",
   "execution_count": 1,
   "metadata": {},
   "outputs": [
    {
     "name": "stdout",
     "output_type": "stream",
     "text": [
      "Solution obtenue:\n"
     ]
    },
    {
     "ename": "UndefVarError",
     "evalue": "UndefVarError: objective_value not defined",
     "output_type": "error",
     "traceback": [
      "UndefVarError: objective_value not defined",
      "",
      "Stacktrace:",
      " [1] top-level scope at In[1]:3"
     ]
    }
   ],
   "source": [
    "# print solution\n",
    "println(\"Solution obtenue:\")\n",
    "println(\"\\t Benefice = $(objective_value(model))\")\n",
    "for k in 1:nb_dem\n",
    "    println(\"La commande du client $k :\")\n",
    "    for j in 1:nb_fl\n",
    "        for i in 1:nb_mag\n",
    "            println(\"\\t Quantité de fluide$j du magasin $i pour le client $k = $(value(Q[i, j, k]))\")\n",
    "        end\n",
    "        println(\"---------------\")\n",
    "    end\n",
    "end"
   ]
  },
  {
   "cell_type": "markdown",
   "metadata": {},
   "source": [
    "### Résultats du cas particulier 1"
   ]
  },
  {
   "cell_type": "markdown",
   "metadata": {},
   "source": [
    "Pour le jeu de données du sujet, le bénifice est 9,5. Le résultat parraît raisonnalbe vue que -par exemple- le stock du premier magasin a bien été épuisé car ses coûts sont les plus faibles."
   ]
  },
  {
   "cell_type": "markdown",
   "metadata": {},
   "source": [
    "## Cas particulier 2"
   ]
  },
  {
   "cell_type": "markdown",
   "metadata": {},
   "source": [
    "On garde les mêmes données et variables que le premier cas particulier, mais vue que maintenant on ne parle plus de fluides mais de produits, alors le problème devient PLNE. La variable $Q_{ijk}$ est devenue de type entier."
   ]
  },
  {
   "cell_type": "code",
   "execution_count": 32,
   "metadata": {},
   "outputs": [
    {
     "name": "stdout",
     "output_type": "stream",
     "text": [
      "Welcome to the CBC MILP Solver \n",
      "Version: 2.10.3 \n",
      "Build Date: Jan  1 1970 \n",
      "\n",
      "command line - Cbc_C_Interface -solve -quit (default strategy 1)\n",
      "Continuous objective value is 9.5 - 0.00 seconds\n",
      "Cgl0003I 0 fixed, 0 tightened bounds, 1 strengthened rows, 0 substitutions\n",
      "Cgl0003I 0 fixed, 0 tightened bounds, 1 strengthened rows, 0 substitutions\n",
      "Cgl0004I processed model has 6 rows, 9 columns (9 integer (6 of which binary)) and 17 elements\n",
      "Cbc0012I Integer solution of 10 found by DiveCoefficient after 0 iterations and 0 nodes (0.00 seconds)\n",
      "Cbc0001I Search completed - best objective 10, took 0 iterations and 0 nodes (0.00 seconds)\n",
      "Cbc0035I Maximum depth 0, 0 variables fixed on reduced cost\n",
      "Cuts at root node changed objective from 10 to 10\n",
      "Probing was tried 0 times and created 0 cuts of which 0 were active after adding rounds of cuts (0.000 seconds)\n",
      "Gomory was tried 0 times and created 0 cuts of which 0 were active after adding rounds of cuts (0.000 seconds)\n",
      "Knapsack was tried 0 times and created 0 cuts of which 0 were active after adding rounds of cuts (0.000 seconds)\n",
      "Clique was tried 0 times and created 0 cuts of which 0 were active after adding rounds of cuts (0.000 seconds)\n",
      "MixedIntegerRounding2 was tried 0 times and created 0 cuts of which 0 were active after adding rounds of cuts (0.000 seconds)\n",
      "FlowCover was tried 0 times and created 0 cuts of which 0 were active after adding rounds of cuts (0.000 seconds)\n",
      "TwoMirCuts was tried 0 times and created 0 cuts of which 0 were active after adding rounds of cuts (0.000 seconds)\n",
      "ZeroHalf was tried 0 times and created 0 cuts of which 0 were active after adding rounds of cuts (0.000 seconds)\n",
      "\n",
      "Result - Optimal solution found\n",
      "\n",
      "Objective value:                10.00000000\n",
      "Enumerated nodes:               0\n",
      "Total iterations:               0\n",
      "Time (CPU seconds):             0.00\n",
      "Time (Wallclock seconds):       0.00\n",
      "\n",
      "Total time (CPU seconds):       0.00   (Wallclock seconds):       0.00\n",
      "\n"
     ]
    }
   ],
   "source": [
    "# fonctionne pour JuMP version 0.21.5\n",
    "using Cbc\n",
    "using JuMP\n",
    "\n",
    "# data\n",
    "nb_mag = 3 # nombre de magasins disponibles\n",
    "nb_prod = 2 # nombre de produits\n",
    "nb_dem = 2 #nombre de demandes/clients\n",
    "C = [1 1;2 3; 3 2] # Coûts  unitaires  de  disponibilité par magasin (Cij cout de Produit_j au magasin i)\n",
    "S = [2.5 1; 1 2; 2 1] # Stocks de produits par magasin\n",
    "D = [2 0; 1 3] # Produits demandés par commande\n",
    "\n",
    "# set optimizer\n",
    "model = Model(Cbc.Optimizer)\n",
    "\n",
    "# Q[i,j,k] la quantité du produit j prise du magasin i pour le client k\n",
    "@variable(model, Q[1:nb_mag, 1:nb_prod , 1:nb_dem] >= 0, Int)\n",
    "\n",
    "# define objective function\n",
    "@objective(model, Min, sum(sum(sum(C[i,j]*Q[i,j,k] for i in 1:nb_mag) for j in 1:nb_prod) for k in 1:nb_dem))\n",
    "\n",
    "# Chaque demande doit être satisfaite dans sa totalité.\n",
    "for k in 1 : nb_dem\n",
    "    for j in 1:nb_prod\n",
    "        @constraint(model, sum(Q[i,j,k] for i in 1:nb_mag) == D[k,j])\n",
    "    end\n",
    "end\n",
    "#La quantité d'un fluide prise d'un magasin ne peut pas dépasser la quantité disponible au stock\n",
    "for i in 1:nb_mag \n",
    "    for j in 1:nb_prod\n",
    "        @constraint(model, sum(Q[i,j,k] for k in 1:nb_dem)  <= S[i,j])\n",
    "    end\n",
    "end\n",
    "# run optimization\n",
    "optimize!(model)"
   ]
  },
  {
   "cell_type": "code",
   "execution_count": 16,
   "metadata": {},
   "outputs": [
    {
     "name": "stdout",
     "output_type": "stream",
     "text": [
      "Solution obtenue:\n",
      "\t Benefice = 10.0\n",
      "La commande du client 1 :\n",
      "\t Quantité du produit1 du magasin 1 pour le client 1 = 1.0\n",
      "\t Quantité du produit1 du magasin 2 pour le client 1 = 1.0\n",
      "\t Quantité du produit1 du magasin 3 pour le client 1 = 0.0\n",
      "---------------\n",
      "\t Quantité du produit2 du magasin 1 pour le client 1 = 0.0\n",
      "\t Quantité du produit2 du magasin 2 pour le client 1 = 0.0\n",
      "\t Quantité du produit2 du magasin 3 pour le client 1 = 0.0\n",
      "---------------\n",
      "La commande du client 2 :\n",
      "\t Quantité du produit1 du magasin 1 pour le client 2 = 1.0\n",
      "\t Quantité du produit1 du magasin 2 pour le client 2 = 0.0\n",
      "\t Quantité du produit1 du magasin 3 pour le client 2 = 0.0\n",
      "---------------\n",
      "\t Quantité du produit2 du magasin 1 pour le client 2 = 1.0\n",
      "\t Quantité du produit2 du magasin 2 pour le client 2 = 1.0\n",
      "\t Quantité du produit2 du magasin 3 pour le client 2 = 1.0\n",
      "---------------\n"
     ]
    }
   ],
   "source": [
    "# print solution\n",
    "println(\"Solution obtenue:\")\n",
    "println(\"\\t Benefice = $(objective_value(model))\")\n",
    "for k in 1:nb_dem\n",
    "    println(\"La commande du client $k :\")\n",
    "    for j in 1:nb_prod\n",
    "        for i in 1:nb_mag\n",
    "            println(\"\\t Quantité du produit$j du magasin $i pour le client $k = $(value(Q[i, j, k]))\")\n",
    "        end\n",
    "        println(\"---------------\")\n",
    "    end\n",
    "end"
   ]
  },
  {
   "cell_type": "markdown",
   "metadata": {},
   "source": [
    "### Résultats du cas particulier 2"
   ]
  },
  {
   "cell_type": "markdown",
   "metadata": {},
   "source": [
    "Le bénéfice devient 10 dans le PLNE, ce qui est raisonnable car le client 1 est obligé de prendre un produit de chez le deuxième magasin qui a un coût plus élevé que le 1er magasin."
   ]
  },
  {
   "cell_type": "markdown",
   "metadata": {},
   "source": [
    "## Comparaison Temps de Calcul entre PL et PLNE\n",
    "\n",
    "Si on teste les deux cas particuliers 1 et 2 avec 10 magasins, 10 produits et 5 demandes, on voit que le temps de calcul pour PL (cas p. 1) est toujours 0.00 alors que le deuxième cas particulier (PLNE) prend 0.01. Donc plus la taille des problèmes est grande, plus les problèmes PLNE sont lents."
   ]
  },
  {
   "cell_type": "code",
   "execution_count": 5,
   "metadata": {},
   "outputs": [
    {
     "name": "stdout",
     "output_type": "stream",
     "text": [
      "Welcome to the CBC MILP Solver \n",
      "Version: 2.10.3 \n",
      "Build Date: Jan  1 1970 \n",
      "\n",
      "command line - Cbc_C_Interface -solve -quit (default strategy 1)\n",
      "Continuous objective value is 55 - 0.00 seconds\n",
      "Cgl0004I processed model has 60 rows, 101 columns (101 integer (71 of which binary)) and 200 elements\n",
      "Cbc0012I Integer solution of 55 found by DiveCoefficient after 0 iterations and 0 nodes (0.00 seconds)\n",
      "Cbc0001I Search completed - best objective 55, took 0 iterations and 0 nodes (0.00 seconds)\n",
      "Cbc0035I Maximum depth 0, 0 variables fixed on reduced cost\n",
      "Cuts at root node changed objective from 55 to 55\n",
      "Probing was tried 0 times and created 0 cuts of which 0 were active after adding rounds of cuts (0.000 seconds)\n",
      "Gomory was tried 0 times and created 0 cuts of which 0 were active after adding rounds of cuts (0.000 seconds)\n",
      "Knapsack was tried 0 times and created 0 cuts of which 0 were active after adding rounds of cuts (0.000 seconds)\n",
      "Clique was tried 0 times and created 0 cuts of which 0 were active after adding rounds of cuts (0.000 seconds)\n",
      "MixedIntegerRounding2 was tried 0 times and created 0 cuts of which 0 were active after adding rounds of cuts (0.000 seconds)\n",
      "FlowCover was tried 0 times and created 0 cuts of which 0 were active after adding rounds of cuts (0.000 seconds)\n",
      "TwoMirCuts was tried 0 times and created 0 cuts of which 0 were active after adding rounds of cuts (0.000 seconds)\n",
      "ZeroHalf was tried 0 times and created 0 cuts of which 0 were active after adding rounds of cuts (0.000 seconds)\n",
      "\n",
      "Result - Optimal solution found\n",
      "\n",
      "Objective value:                55.00000000\n",
      "Enumerated nodes:               0\n",
      "Total iterations:               0\n",
      "Time (CPU seconds):             0.01\n",
      "Time (Wallclock seconds):       0.00\n",
      "\n",
      "Total time (CPU seconds):       0.01   (Wallclock seconds):       0.00\n",
      "\n"
     ]
    }
   ],
   "source": [
    "# fonctionne pour JuMP version 0.21.5\n",
    "using Cbc\n",
    "using JuMP\n",
    "\n",
    "# data\n",
    "nb_mag = 10 # nombre de magasins disponibles\n",
    "nb_fl = 10 # nombre de fluides\n",
    "nb_dem = 5 #nombre de demandes/clients\n",
    "C = [1 0 0 0 1 1 1 2 2 1 ;\n",
    "     5 4 2 0 0 0 0 1 2 3 ;\n",
    "     3 2 0 0 0 0 0 0 0 0 ;\n",
    "     2 0 1 1 2 4 8 7 6 4 ;\n",
    "     2 3 4 6 7 4 4 2 2 5 ;\n",
    "     4 5 4 0 0 1 0 2 2 2 ;\n",
    "     1 0 0 0 1 1 1 2 2 1 ;\n",
    "     5 4 2 0 0 0 0 1 2 3 ;\n",
    "     3 2 0 0 0 0 0 0 0 0 ;\n",
    "     2 0 1 1 2 4 8 7 6 4 ] # Coûts  unitaires  de  disponibilité par magasin (Cij coût de Produit_j au magasin i)\n",
    "S = [3 1 0 1 1 0 1 2 1 0 ; \n",
    "    0 0 0 0 1 0 0 0 0 0 ; \n",
    "    1 2 0 0 1 0 1 1 1 1 ; \n",
    "    1 1 1 0 2 0 2 0 0 0 ; \n",
    "    1 0 0 3 0 1 1 0 2 0 ; \n",
    "    1 1 2 0 2 0 0 0 1 0 ; \n",
    "    1 1 3 3 2 0 1 0 0 0 ; \n",
    "    0 0 2 1 0 0 0 2 0 1 ; \n",
    "    1 2 1 1 0 2 0 0 3 0 ; \n",
    "    0 1 0 0 1 0 1 0 1 0 ] # Stocks de produits par magasin\n",
    "D = [0 3 0 3 3 0 2 0 2 0 ; \n",
    "    0 0 0 0 1 1 0 3 1 0 ; \n",
    "    4 0 0 0 4 0 0 0 0 0 ; \n",
    "    0 4 4 0 0 0 0 0 4 0 ; \n",
    "    3 0 3 4 0 0 3 0 0 0 ] # Produits demandés par commande\n",
    "\n",
    "# set optimizer\n",
    "model = Model(Cbc.Optimizer)\n",
    "\n",
    "# Q[i,j,k] la quantité de fluide j prise du magasin i pour le client k\n",
    "@variable(model, Q[1:nb_mag, 1:nb_fl , 1:nb_dem] >= 0, Int)\n",
    "\n",
    "# define objective function\n",
    "@objective(model, Min, sum(sum(sum(C[i,j]*Q[i,j,k] for i in 1:nb_mag) for j in 1:nb_fl) for k in 1:nb_dem))\n",
    "\n",
    "# Chaque demande doit être satisfaite dans sa totalité.\n",
    "for k in 1 : nb_dem\n",
    "    for j in 1:nb_fl\n",
    "        @constraint(model, sum(Q[i,j,k] for i in 1:nb_mag) == D[k,j])\n",
    "    end\n",
    "end\n",
    "#La quantité d'un fluide prise d'un magasin ne peut pas dépasser la quantité disponible au stock\n",
    "for i in 1:nb_mag \n",
    "    for j in 1:nb_fl\n",
    "        @constraint(model, sum(Q[i,j,k] for k in 1:nb_dem)  <= S[i,j])\n",
    "    end\n",
    "end\n",
    "# run optimization\n",
    "optimize!(model)"
   ]
  },
  {
   "cell_type": "markdown",
   "metadata": {},
   "source": [
    "## Cas particulier 3"
   ]
  },
  {
   "cell_type": "markdown",
   "metadata": {},
   "source": [
    "### Modélisation :\n",
    "On garde toutes les données et variables d'avant et on introduit une nouvelle variable binaire $X_{ij} $ qui vaut 1 si le client i prend au moins un produit du magasin j, et 0 sinon. On introduit aussi la matrice des coûts d'expédition et le vecteur M qui nous servira pour appliquer la méthode du Big-M."
   ]
  },
  {
   "cell_type": "code",
   "execution_count": 36,
   "metadata": {},
   "outputs": [
    {
     "name": "stdout",
     "output_type": "stream",
     "text": [
      "Welcome to the CBC MILP Solver \n",
      "Version: 2.10.3 \n",
      "Build Date: Jan  1 1970 \n",
      "\n",
      "command line - Cbc_C_Interface -solve -quit (default strategy 1)\n",
      "Continuous objective value is 12.25 - 0.00 seconds\n",
      "Cgl0003I 0 fixed, 0 tightened bounds, 2 strengthened rows, 3 substitutions\n",
      "Cgl0003I 0 fixed, 0 tightened bounds, 1 strengthened rows, 0 substitutions\n",
      "Cgl0004I processed model has 14 rows, 13 columns (13 integer (10 of which binary)) and 38 elements\n",
      "Cbc0012I Integer solution of 14 found by DiveCoefficient after 0 iterations and 0 nodes (0.00 seconds)\n",
      "Cbc0001I Search completed - best objective 14, took 2 iterations and 0 nodes (0.00 seconds)\n",
      "Cbc0035I Maximum depth 0, 4 variables fixed on reduced cost\n",
      "Cuts at root node changed objective from 13.5 to 14\n",
      "Probing was tried 0 times and created 0 cuts of which 0 were active after adding rounds of cuts (0.000 seconds)\n",
      "Gomory was tried 0 times and created 0 cuts of which 0 were active after adding rounds of cuts (0.000 seconds)\n",
      "Knapsack was tried 0 times and created 0 cuts of which 0 were active after adding rounds of cuts (0.000 seconds)\n",
      "Clique was tried 0 times and created 0 cuts of which 0 were active after adding rounds of cuts (0.000 seconds)\n",
      "MixedIntegerRounding2 was tried 0 times and created 0 cuts of which 0 were active after adding rounds of cuts (0.000 seconds)\n",
      "FlowCover was tried 0 times and created 0 cuts of which 0 were active after adding rounds of cuts (0.000 seconds)\n",
      "TwoMirCuts was tried 0 times and created 0 cuts of which 0 were active after adding rounds of cuts (0.000 seconds)\n",
      "ZeroHalf was tried 0 times and created 0 cuts of which 0 were active after adding rounds of cuts (0.000 seconds)\n",
      "\n",
      "Result - Optimal solution found\n",
      "\n",
      "Objective value:                14.00000000\n",
      "Enumerated nodes:               0\n",
      "Total iterations:               2\n",
      "Time (CPU seconds):             0.00\n",
      "Time (Wallclock seconds):       0.00\n",
      "\n",
      "Total time (CPU seconds):       0.00   (Wallclock seconds):       0.00\n",
      "\n"
     ]
    }
   ],
   "source": [
    "# fonctionne pour JuMP version 0.21.5\n",
    "using Cbc\n",
    "using JuMP\n",
    "\n",
    "# data\n",
    "nb_mag = 3 # nombre de magasins disponibles\n",
    "nb_dem = 2 #nombre de demandes/clients\n",
    "nb_pro = 2 #nombre de produits\n",
    "Cdisp = [1 1;2 3; 3 2] # Coûts  unitaires  de  disponibilité par magasin (Cij cout de Produit j au magasin i)\n",
    "S = [2.5 1; 1 2; 2 1] # Stocks de produits par magasin\n",
    "D = [2 0; 1 3] # Produits demandés par commande\n",
    "Cexp = [1 0 10; 0 2 10] #Côuts d’expédition d’un colis entre chaque paire (point de demande, magasin)\n",
    "M = [sum(D[1,j] for j in 1:nb_pro); sum(D[2,j] for j in 1:nb_pro)] # pour la méthode du big-M\n",
    "# set optimizer\n",
    "model = Model(Cbc.Optimizer)\n",
    "\n",
    "# Q[i,j,k] la quantité du produit j prise du magasin i pour le client k\n",
    "@variable(model, Q[1:nb_mag, 1:nb_pro , 1:nb_dem] >= 0, Int)\n",
    "#X_ij vaut 1 si le client i prend au moins 1 produit du magasin j, 0 sinon.\n",
    "@variable(model, x[1:nb_dem, 1:nb_mag], Bin)\n",
    "\n",
    "# define objective function\n",
    "@objective(model, Min, sum(sum(sum(Cdisp[i,j]*Q[i,j,k] for i in 1:nb_mag) for j in 1:nb_prod) for k in 1:nb_dem) + sum(Cexp .* x))\n",
    "\n",
    "# define constraints\n",
    "for k in 1 : nb_dem\n",
    "    for j in 1:nb_prod\n",
    "        @constraint(model, sum(Q[i,j,k] for i in 1:nb_mag) == D[k,j])\n",
    "    end\n",
    "end\n",
    "\n",
    "for i in 1:nb_mag \n",
    "    for j in 1:nb_prod\n",
    "        @constraint(model, sum(Q[i,j,k] for k in 1:nb_dem)  <= S[i,j])\n",
    "    end\n",
    "end                                              \n",
    "\n",
    "for k in 1:nb_dem \n",
    "    for i in 1:nb_mag\n",
    "        #pour imposer 1 sur x si le client k prend au moins un produit du magasin i\n",
    "        @constraint(model, sum(Q[i,j,k] for j in 1:nb_prod) <= M[k]*x[k,i])\n",
    "        #pour imposer zero sur x si le client k ne prend aucun produit du magasin i\n",
    "        @constraint(model, x[k,i] <= sum(Q[i,j,k] for j in 1:nb_prod) )\n",
    "    end\n",
    "end\n",
    "                                                                                    \n",
    "# run optimization\n",
    "optimize!(model)"
   ]
  },
  {
   "cell_type": "code",
   "execution_count": 37,
   "metadata": {},
   "outputs": [
    {
     "name": "stdout",
     "output_type": "stream",
     "text": [
      "Solution obtenue:\n",
      "\t Benefice = 14.0\n",
      "La commande du client 1 :\n",
      "\t Quantité du produit1 du magasin 1 pour le client 1 = 1.0\n",
      "\t Quantité du produit1 du magasin 2 pour le client 1 = 1.0\n",
      "\t Quantité du produit1 du magasin 3 pour le client 1 = 0.0\n",
      "---------------\n",
      "\t Quantité du produit2 du magasin 1 pour le client 1 = 0.0\n",
      "\t Quantité du produit2 du magasin 2 pour le client 1 = 0.0\n",
      "\t Quantité du produit2 du magasin 3 pour le client 1 = 0.0\n",
      "---------------\n",
      "La commande du client 2 :\n",
      "\t Quantité du produit1 du magasin 1 pour le client 2 = 1.0\n",
      "\t Quantité du produit1 du magasin 2 pour le client 2 = 0.0\n",
      "\t Quantité du produit1 du magasin 3 pour le client 2 = 0.0\n",
      "---------------\n",
      "\t Quantité du produit2 du magasin 1 pour le client 2 = 1.0\n",
      "\t Quantité du produit2 du magasin 2 pour le client 2 = 2.0\n",
      "\t Quantité du produit2 du magasin 3 pour le client 2 = 0.0\n",
      "---------------\n",
      "Vérification de binaires Xij \n",
      "\t Le client 1 a pris au moins un produit du magasin 1 = 1.0\n",
      "\t Le client 1 a pris au moins un produit du magasin 2 = 1.0\n",
      "\t Le client 1 a pris au moins un produit du magasin 3 = 0.0\n",
      "---------------\n",
      "\t Le client 2 a pris au moins un produit du magasin 1 = 1.0\n",
      "\t Le client 2 a pris au moins un produit du magasin 2 = 1.0\n",
      "\t Le client 2 a pris au moins un produit du magasin 3 = 0.0\n",
      "---------------\n"
     ]
    }
   ],
   "source": [
    "println(\"Solution obtenue:\")\n",
    "println(\"\\t Benefice = $(objective_value(model))\")\n",
    "for k in 1:nb_dem\n",
    "    println(\"La commande du client $k :\")\n",
    "    for j in 1:nb_prod\n",
    "        for i in 1:nb_mag\n",
    "            println(\"\\t Quantité du produit$j du magasin $i pour le client $k = $(value(Q[i, j, k]))\")\n",
    "        end\n",
    "        println(\"---------------\")\n",
    "    end\n",
    "end\n",
    "println(\"Vérification de binaires Xij \")\n",
    "for i in 1:nb_dem\n",
    "    for j in 1:nb_mag\n",
    "        println(\"\\t Le client $i a pris au moins un produit du magasin $j = $(value(x[i, j]))\")\n",
    "    end\n",
    "    println(\"---------------\")\n",
    "end\n"
   ]
  },
  {
   "cell_type": "markdown",
   "metadata": {},
   "source": [
    "### Résultats Cas Particulier 3 \n",
    "\n",
    "Le bénéfice après l'introduction des coûts de livraison est passé de 10 à 14, ce qui correspont simplement à l'ajout des frais de livraison (vers les deux premiers magasins pour client1, et vers les trois magasins pour le client 2).On remarque que on epuise toujours le stock du magasin 1 car même avec un coût d'expédition nul, les magasins 2 et 3 restent plus coûteux en terme de coûts unitaires.\n",
    "Si on remplace les coûts d'expédition du magasin (vers les deux clients) par un grand nombre (10 par exemple) , on remarque que les deux clients ne prennent aucun produit du magasin 3 . Ce qui est raisonnable."
   ]
  },
  {
   "cell_type": "markdown",
   "metadata": {},
   "source": [
    "# Le Problème Générale"
   ]
  },
  {
   "cell_type": "markdown",
   "metadata": {},
   "source": [
    "## Modélisation\n",
    "\n",
    "On a introduit la variable $M_{ijk}$ (pour Map), qui vaut 1 si l'arc orienté (i,j) fait partie de la tournée du livreur du magasin k, et 0 sinon. On a gardé la variable $X_{ij}$ pour décider si le livreur j doit passer par le client i ou pas. L'objectif est de minimiser la distance totale parcourue par tous les livreurs."
   ]
  },
  {
   "cell_type": "code",
   "execution_count": 2,
   "metadata": {},
   "outputs": [
    {
     "name": "stdout",
     "output_type": "stream",
     "text": [
      "Welcome to the CBC MILP Solver \n",
      "Version: 2.10.3 \n",
      "Build Date: Jan  1 1970 \n",
      "\n",
      "command line - Cbc_C_Interface -solve -quit (default strategy 1)\n",
      "Continuous objective value is 6 - 0.00 seconds\n",
      "Cgl0002I 6 variables fixed\n",
      "Cgl0004I processed model has 22 rows, 30 columns (30 integer (30 of which binary)) and 80 elements\n",
      "Cbc0012I Integer solution of 6 found by DiveCoefficient after 0 iterations and 0 nodes (0.00 seconds)\n",
      "Cbc0001I Search completed - best objective 6, took 0 iterations and 0 nodes (0.00 seconds)\n",
      "Cbc0035I Maximum depth 0, 0 variables fixed on reduced cost\n",
      "Cuts at root node changed objective from 6 to 6\n",
      "Probing was tried 0 times and created 0 cuts of which 0 were active after adding rounds of cuts (0.000 seconds)\n",
      "Gomory was tried 0 times and created 0 cuts of which 0 were active after adding rounds of cuts (0.000 seconds)\n",
      "Knapsack was tried 0 times and created 0 cuts of which 0 were active after adding rounds of cuts (0.000 seconds)\n",
      "Clique was tried 0 times and created 0 cuts of which 0 were active after adding rounds of cuts (0.000 seconds)\n",
      "MixedIntegerRounding2 was tried 0 times and created 0 cuts of which 0 were active after adding rounds of cuts (0.000 seconds)\n",
      "FlowCover was tried 0 times and created 0 cuts of which 0 were active after adding rounds of cuts (0.000 seconds)\n",
      "TwoMirCuts was tried 0 times and created 0 cuts of which 0 were active after adding rounds of cuts (0.000 seconds)\n",
      "ZeroHalf was tried 0 times and created 0 cuts of which 0 were active after adding rounds of cuts (0.000 seconds)\n",
      "\n",
      "Result - Optimal solution found\n",
      "\n",
      "Objective value:                6.00000000\n",
      "Enumerated nodes:               0\n",
      "Total iterations:               0\n",
      "Time (CPU seconds):             0.00\n",
      "Time (Wallclock seconds):       0.00\n",
      "\n",
      "Total time (CPU seconds):       0.00   (Wallclock seconds):       0.00\n",
      "\n"
     ]
    }
   ],
   "source": [
    "using Cbc\n",
    "using JuMP\n",
    "include(\"2_4.jl\")\n",
    "inputfilepath = \"data_2-4\"\n",
    "inputfilename = \"Data_test_5_1_2.txt\" #\"Data_test_5_2_3.txt\" \n",
    "nb_dem, nb_prod, nb_mag, nb_noeuds, S, Q, R = read_data_24(inputfilepath, inputfilename)\n",
    "# set optimizer\n",
    "model = Model(Cbc.Optimizer)\n",
    "# define variables\n",
    "# quantités des produits Livrées par chaque magasin i du produit j au client k\n",
    "@variable(model, L[1:nb_mag, 1:nb_prod , 1:nb_dem] >= 0, Int) \n",
    "@variable(model, X[1:nb_dem, 1:nb_mag], Bin)\n",
    "#map\n",
    "@variable(model, M[1:nb_noeuds, 1:nb_noeuds , 1:nb_mag] >= 0, Bin)\n",
    "# define objective function\n",
    "@objective(model, Min, sum(sum(sum(R[i][j]*M[i,j,k] for i in 1:nb_noeuds) for j in 1:nb_noeuds) for k in 1:nb_mag))\n",
    "\n",
    "                            \n",
    "# define constraints\n",
    "for k in 1 : nb_dem\n",
    "    for j in 1:nb_prod\n",
    "        @constraint(model, sum(L[i,j,k] for i in 1:nb_mag) == Q[k][j])\n",
    "    end\n",
    "end\n",
    "#contrainte sur le stock\n",
    "for i in 1:nb_mag\n",
    "    for j in 1:nb_prod\n",
    "        @constraint(model, sum(L[i,j,k] for k in 1:nb_dem)  <= S[i][j])\n",
    "    end\n",
    "end\n",
    "#contrainte sur le biniare X\n",
    "for k in 1:nb_dem \n",
    "    for i in 1:nb_mag\n",
    "        @constraint(model, sum(L[i,j,k] for j in 1:nb_prod) <= sum(Q[k][j] for j in 1:nb_prod)*X[k,i])\n",
    "        @constraint(model, X[k,i] <= sum(L[i,j,k] for j in 1:nb_prod))\n",
    "    end\n",
    "end\n",
    "#contrainte sur les maps\n",
    "for k in 1:nb_mag\n",
    "    #le magasin fait necessairement partie de la tournée de son livreur\n",
    "    @constraint(model,sum(M[i,k,k] for i in 1:nb_noeuds) == 1) \n",
    "    for j in (1+nb_mag):nb_noeuds\n",
    "        @constraint(model,sum(M[i,j,k] for i in 1:nb_noeuds) == X[j-nb_mag, k])\n",
    "    end\n",
    "end\n",
    "#Pour ne pas sléctionner l'arc entre un noeud et soi même.\n",
    "for k in 1:nb_mag\n",
    "    @constraint(model, sum(M[i,i,k] for i in 1:nb_noeuds) == 0)\n",
    "end                                                                        \n",
    "#le livreur ne passe pas par les autres magasins\n",
    "for k in 1:nb_mag\n",
    "    for i in 1:k-1\n",
    "        @constraint(model,sum(M[i,j,k] for j in 1:nb_noeuds) == 0)\n",
    "        @constraint(model,sum(M[j,i,k] for j in 1:nb_noeuds) == 0)\n",
    "    end\n",
    "    for i in k+1:nb_mag\n",
    "        @constraint(model,sum(M[i,j,k] for j in 1:nb_noeuds) == 0)\n",
    "        @constraint(model,sum(M[j,i,k] for j in 1:nb_noeuds) == 0)\n",
    "    end\n",
    "end\n",
    "for k in 1:nb_mag\n",
    "    #le magasin fait necessairement partie de la tournée de son livreur\n",
    "    @constraint(model,sum(M[k,j,k] for j in 1:nb_noeuds) == 1) \n",
    "    for i in (1+nb_mag):nb_noeuds\n",
    "        @constraint(model,sum(M[i,j,k] for j in 1:nb_noeuds) == X[i-nb_mag, k])\n",
    "    end\n",
    "end\n",
    "\n",
    "#Contrainte: Pas de sous tours\n",
    "for k in 1:nb_mag\n",
    "    for i in nb_mag +1:nb_noeuds-1\n",
    "        for j in i+1:nb_noeuds\n",
    "            @constraint(model,M[i,j,k]+M[j,i,k]<=1)\n",
    "        end\n",
    "    end\n",
    "end\n",
    "\n",
    "# run optimization\n",
    "optimize!(model)"
   ]
  },
  {
   "cell_type": "code",
   "execution_count": 3,
   "metadata": {},
   "outputs": [
    {
     "name": "stdout",
     "output_type": "stream",
     "text": [
      "Solution obtenue:\n",
      "\t Benefice = 6.0\n",
      "Tour des livreurs ---------------\n",
      "\t M 1 _ 1 _1  = 0.0\n",
      "\t M 2 _ 1 _1  = 0.0\n",
      "\t M 3 _ 1 _1  = 1.0\n",
      "\t M 4 _ 1 _1  = 0.0\n",
      "\t M 5 _ 1 _1  = 0.0\n",
      "\t M 6 _ 1 _1  = 0.0\n",
      "\t M 1 _ 2 _1  = 1.0\n",
      "\t M 2 _ 2 _1  = 0.0\n",
      "\t M 3 _ 2 _1  = 0.0\n",
      "\t M 4 _ 2 _1  = 0.0\n",
      "\t M 5 _ 2 _1  = 0.0\n",
      "\t M 6 _ 2 _1  = 0.0\n",
      "\t M 1 _ 3 _1  = 0.0\n",
      "\t M 2 _ 3 _1  = 1.0\n",
      "\t M 3 _ 3 _1  = 0.0\n",
      "\t M 4 _ 3 _1  = 0.0\n",
      "\t M 5 _ 3 _1  = 0.0\n",
      "\t M 6 _ 3 _1  = 0.0\n",
      "\t M 1 _ 4 _1  = 0.0\n",
      "\t M 2 _ 4 _1  = 0.0\n",
      "\t M 3 _ 4 _1  = 0.0\n",
      "\t M 4 _ 4 _1  = 0.0\n",
      "\t M 5 _ 4 _1  = 0.0\n",
      "\t M 6 _ 4 _1  = 0.9999999999999999\n",
      "\t M 1 _ 5 _1  = 0.0\n",
      "\t M 2 _ 5 _1  = 0.0\n",
      "\t M 3 _ 5 _1  = 0.0\n",
      "\t M 4 _ 5 _1  = 0.9999999999999999\n",
      "\t M 5 _ 5 _1  = 0.0\n",
      "\t M 6 _ 5 _1  = 0.0\n",
      "\t M 1 _ 6 _1  = 0.0\n",
      "\t M 2 _ 6 _1  = 0.0\n",
      "\t M 3 _ 6 _1  = 0.0\n",
      "\t M 4 _ 6 _1  = 0.0\n",
      "\t M 5 _ 6 _1  = 0.9999999999999999\n",
      "\t M 6 _ 6 _1  = 0.0\n",
      "Les clients de chaque livreur ---------------\n"
     ]
    },
    {
     "ename": "UndefVarError",
     "evalue": "UndefVarError: x not defined",
     "output_type": "error",
     "traceback": [
      "UndefVarError: x not defined",
      "",
      "Stacktrace:",
      " [1] top-level scope at ./In[3]:23"
     ]
    }
   ],
   "source": [
    "println(\"Solution obtenue:\")\n",
    "println(\"\\t Benefice = $(objective_value(model))\")\n",
    "for k in 1:nb_dem\n",
    "    #println(\"La commande du client $k :\")\n",
    "    for j in 1:nb_prod\n",
    "        for i in 1:nb_mag\n",
    "            #println(\"\\t Quantité du produit$j du magasin $i pour le client $k = $(value(L[i, j, k]))\")\n",
    "        end\n",
    "        #println(\"---------------\")\n",
    "    end\n",
    "end\n",
    "println(\"Tour des livreurs ---------------\")\n",
    "for k in 1:nb_mag\n",
    "    for j in 1:nb_noeuds\n",
    "        for i in 1:nb_noeuds\n",
    "            println(\"\\t M $(i) _ $(j) _$k  = $(value(M[i, j, k]))\")\n",
    "        end\n",
    "    end\n",
    "end\n",
    "println(\"Les clients de chaque livreur ---------------\")\n",
    "        for i in 1:nb_dem\n",
    "            for j in 1:nb_mag\n",
    "                println(\"\\t Le client $i a pris au moins un produit du magasin $j = $(value(x[i, j]))\")\n",
    "            end\n",
    "        end"
   ]
  },
  {
   "cell_type": "markdown",
   "metadata": {},
   "source": [
    "## Difficultés Rencontrées Au Problème Générale\n",
    "\n",
    "Pour l'élimination des sous tours, la contrainte qu'on a voulu exprimée en Julia est : quel que soit i et j dans S un sous ensemble de D (l'ensemble des noeuds de clients) $\\sum_{i,j}M_{ijk}$ <= |S| -1 , cette contrainte est  utillisée dans la résolution  de Traveling Salesman Problem, et suppose que l'inégalité triangulaire est vérifiée.\n",
    "On a pas arrivé à la traduire en Julia, vue qu'il faut tester toutes la partitions de D.\n",
    "On l'as appliqué pour éliminer les sous tours entre deux clients, ce qui fait que le cas 5_1_2 marche bien, mais dès qu'on passe au cas 5_2_3, on voit apparaître des sous tours de 3 clients."
   ]
  },
  {
   "cell_type": "code",
   "execution_count": null,
   "metadata": {},
   "outputs": [],
   "source": []
  }
 ],
 "metadata": {
  "kernelspec": {
   "display_name": "Julia 1.4.2",
   "language": "julia",
   "name": "julia-1.4"
  },
  "language_info": {
   "file_extension": ".jl",
   "mimetype": "application/julia",
   "name": "julia",
   "version": "1.4.2"
  }
 },
 "nbformat": 4,
 "nbformat_minor": 2
}
