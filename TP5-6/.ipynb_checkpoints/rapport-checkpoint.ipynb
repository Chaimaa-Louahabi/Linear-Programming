{
 "cells": [
  {
   "cell_type": "markdown",
   "metadata": {},
   "source": [
    "<center>\n",
    "<h1> TP 5 et 6- Recherche Operationnelle </h1>\n",
    "<h1> Année 2020-2021 - 2e année département Sciences du Numérique </h1>\n",
    "<h1> Noms:  Ghanim - Louahabi</h1>\n",
    "<h1> Prénoms:  Ahmed - Chaimaa</h1>    \n",
    "</center>"
   ]
  },
  {
   "cell_type": "markdown",
   "metadata": {},
   "source": [
    "## 1. Prise en main : ordonnancement avec contraintes de précédence"
   ]
  },
  {
   "cell_type": "markdown",
   "metadata": {},
   "source": [
    "Initialization (à décommenter et exécuter une seule fois)"
   ]
  },
  {
   "cell_type": "code",
   "execution_count": 1,
   "metadata": {
    "scrolled": true
   },
   "outputs": [],
   "source": [
    "#import Pkg; Pkg.add(\"Clp\")"
   ]
  },
  {
   "cell_type": "markdown",
   "metadata": {},
   "source": [
    "## 1.1 Modélisation et résolution de (P1) à l'aide d'un programme linéaire"
   ]
  },
  {
   "cell_type": "code",
   "execution_count": 11,
   "metadata": {
    "scrolled": false
   },
   "outputs": [
    {
     "name": "stdout",
     "output_type": "stream",
     "text": [
      "Min tfin\n",
      "Subject to\n",
      " -t[1] + t[2] ≥ 2.0\n",
      " -t[1] + t[3] ≥ 2.0\n",
      " -t[2] + t[4] ≥ 3.0\n",
      " -t[3] + t[4] ≥ 1.0\n",
      " -t[3] + t[5] ≥ 1.0\n",
      " -t[4] + tfin ≥ 4.0\n",
      " -t[5] + tfin ≥ 1.0\n",
      " t[1] ≥ 0.0\n",
      " t[2] ≥ 0.0\n",
      " t[3] ≥ 0.0\n",
      " t[4] ≥ 0.0\n",
      " t[5] ≥ 0.0\n",
      "\n",
      "start solve ... ... end solve\n",
      "\n",
      "Solution PL:\n",
      " \t t=[0.0, 2.0, 2.0, 5.0, 8.0]\t tfin=9.0\n"
     ]
    }
   ],
   "source": [
    "using JuMP\n",
    "using Clp\n",
    "\n",
    "model = Model(Clp.Optimizer) # set optimizer\n",
    "set_optimizer_attribute(model, \"LogLevel\", 0) #don't display anything during solve\n",
    "set_optimizer_attribute(model, \"Algorithm\", 4) #LP solver chosen is simplex\n",
    "#Récupération des données\n",
    "D=[2, 3, 1, 4, 1]\n",
    "# define t variables\n",
    "@variable(model, t[i in 1:5] >= 0)\n",
    "@variable(model, tfin)\n",
    "\n",
    "# define objective function\n",
    "@objective(model, Min, tfin)\n",
    "\n",
    "# define constraints: t_j - t_i  >= D[i], \\forall i predecesseur de j\n",
    "@constraint(model, t[2] - t[1] >= D[1] )\n",
    "@constraint(model, t[3] - t[1] >= D[1] )\n",
    "@constraint(model, t[4] - t[2] >= D[2] )\n",
    "@constraint(model, t[4] - t[3] >= D[3] )\n",
    "@constraint(model, t[5] - t[3] >= D[3] )\n",
    "\n",
    "#define constraints: tfin - t_i >= Duree[i], \\forall i predecesseur de j\n",
    "@constraint(model, tfin - t[4] >= D[4] )\n",
    "@constraint(model, tfin - t[5] >= D[5] )\n",
    "\n",
    "println(model)\n",
    "\n",
    "print(\"start solve ... \")\n",
    "optimize!(model)\n",
    "print(\"... end solve\")\n",
    "\n",
    "\n",
    "println(\"\\n\\nSolution PL:\\n \\t t=\", value.(t), \"\\t tfin=\", value(tfin))\n"
   ]
  },
  {
   "cell_type": "markdown",
   "metadata": {},
   "source": [
    "## 1.2 Modélisation et résolution de (P1) à l'aide d'un graphe potentiel-tâche"
   ]
  },
  {
   "cell_type": "markdown",
   "metadata": {},
   "source": [
    "Dans cette partie, on modélise le problème d'ordonnancement des tâches par un graphe potenntiel-tâche, et on cherche à minimiser la durée totale d'exécution tout en respectant les contraintes de précédence entre les tâches."
   ]
  },
  {
   "cell_type": "code",
   "execution_count": 2,
   "metadata": {},
   "outputs": [
    {
     "name": "stdout",
     "output_type": "stream",
     "text": [
      "\tL: [0.0; 2.0; 2.0; 5.0; 3.0; 9.0]\n",
      "\tPred: [0.0; 1.0; 1.0; 2.0; 3.0; 4.0]\n",
      "Le chemin le plus long entre A et B est de poids 2.0 : A -> B\n",
      "Le chemin le plus long entre A et C est de poids 2.0 : A -> C\n",
      "Le chemin le plus long entre A et D est de poids 5.0 : A -> B -> D\n",
      "Le chemin le plus long entre A et E est de poids 3.0 : A -> C -> E\n",
      "Le chemin le plus long entre A et Fin est de poids 9.0 : A -> B -> D -> Fin\n"
     ]
    }
   ],
   "source": [
    "#Calcul du plus long chemin\n",
    "function Algorithme_Bellman_Ford_long(G, s)\n",
    "    # n : nombre de sommets\n",
    "    n = size(G, 1)\n",
    "    # tableau des distances depuis le sommet s\n",
    "    L = zeros(n,1)\n",
    "    Pred = zeros(n,1)\n",
    "    arcs = get_arcs(G)\n",
    "    for i = 1:n\n",
    "        if i != s\n",
    "            L[i] = -Inf\n",
    "        end\n",
    "    end\n",
    "    for k in 1:n\n",
    "        for a in arcs\n",
    "            if L[a[2]] < (L[a[1]] + G[a[1],a[2]])\n",
    "                L[a[2]] = L[a[1]] + G[a[1],a[2]]\n",
    "                Pred[a[2]] = a[1]\n",
    "            end\n",
    "        end\n",
    "    end\n",
    "    return L,Pred\n",
    "end\n",
    "# Fonction auxiliaire qui retourne un string decrivant le chemin entre source et destination\n",
    "# noms : liste des noms des sommets# Pred : liste des predecésseurs\n",
    "function get_chemin(source, destination, noms, Pred)\n",
    "    chemin = noms[destination]\n",
    "    j = destination\n",
    "    while Int(Pred[j]) != source\n",
    "        k = Int(Pred[j])\n",
    "        chemin  = string(noms[k],\" -> \", chemin)\n",
    "        j = k\n",
    "    end\n",
    "    chemin  = string(noms[source],\" -> \", chemin)\n",
    "    return chemin\n",
    "end\n",
    "#fonction auxiliaire qui retourne une liste de tuples, chaque tuple est un arc du graphe G\n",
    "function get_arcs(G)\n",
    "    u = []\n",
    "    n = size(G,1)\n",
    "    for i in 1:n\n",
    "        for j in 1:n\n",
    "            if G[i,j] != 0\n",
    "                push!(u,(i,j))\n",
    "            end\n",
    "        end\n",
    "    end\n",
    "    return u\n",
    "end\n",
    "#L'exemple du sujet .\n",
    "G = [\n",
    "    0 2 2 0 0 0 ;\n",
    "    0 0 0 3 0 0 ;\n",
    "    0 0 0 1 1 0 ;\n",
    "    0 0 0 0 0 4 ;\n",
    "    0 0 0 0 0 1 ;\n",
    "    0 0 0 0 0 0\n",
    "]\n",
    "n = size(G,1)\n",
    "L, Pred = Algorithme_Bellman_Ford_long(G, 1)\n",
    "println(\"\\tL: $L\")\n",
    "println(\"\\tPred: $Pred\")\n",
    "noms = [\"A\" \"B\" \"C\" \"D\" \"E\" \"Fin\"]\n",
    "for i in 2:n\n",
    "    chemin = get_chemin(1, i, noms, Pred)\n",
    "    println(\"Le chemin le plus long entre A et $(noms[i]) est de poids $(L[i]) : $chemin\")\n",
    "end"
   ]
  },
  {
   "cell_type": "markdown",
   "metadata": {},
   "source": [
    "### Comparaison : \n",
    "On voit la différence entre les deux méthodes au niveau de E, avec Bellman, on calcule la date au plus tôt, et avec la programmation linéaire on calcule la date au plus tard. Par contre la durée totale d'exécution est la même."
   ]
  },
  {
   "cell_type": "markdown",
   "metadata": {},
   "source": [
    "## 2. Job-shop : ordonnancement avec contraintes de précédence et contraintes de ressources"
   ]
  },
  {
   "cell_type": "markdown",
   "metadata": {},
   "source": [
    "### 2.1 Relaxation des contraintes de ressources"
   ]
  },
  {
   "cell_type": "markdown",
   "metadata": {},
   "source": [
    "En ignorant les contraintes sur les ressources, le problème devient  un simple problème d'ordonnancement avec contraintes de précédence entre les opérations d'un même travail.Ce qui est équivalent au problème P1."
   ]
  },
  {
   "cell_type": "code",
   "execution_count": 3,
   "metadata": {},
   "outputs": [
    {
     "name": "stdout",
     "output_type": "stream",
     "text": [
      "Min tfin\n",
      "Subject to\n",
      " -t[1] + t[2] ≥ 6.0\n",
      " -t[3] + t[4] ≥ 3.0\n",
      " -t[4] + t[5] ≥ 5.0\n",
      " -t[2] + tfin ≥ 7.0\n",
      " -t[5] + tfin ≥ 1.0\n",
      " t[1] ≥ 0.0\n",
      " t[2] ≥ 0.0\n",
      " t[3] ≥ 0.0\n",
      " t[4] ≥ 0.0\n",
      " t[5] ≥ 0.0\n",
      "\n",
      "start solve ... ... end solve\n",
      "\n",
      "Solution PL:\n",
      " \t t=[0.0, 6.0, 0.0, 3.0, 8.0]\t tfin=13.0\n"
     ]
    }
   ],
   "source": [
    "using JuMP\n",
    "using Clp\n",
    "\n",
    "model = Model(Clp.Optimizer) # set optimizer\n",
    "set_optimizer_attribute(model, \"LogLevel\", 0) #don't display anything during solve\n",
    "set_optimizer_attribute(model, \"Algorithm\", 4) #LP solver chosen is simplex\n",
    "#Récupération des données\n",
    "D=[6, 7, 3, 5, 1]\n",
    "# define t variables\n",
    "@variable(model, t[i in 1:5] >= 0)\n",
    "@variable(model, tfin)\n",
    "\n",
    "# define objective function\n",
    "@objective(model, Min, tfin)\n",
    "\n",
    "# define constraints: t_j - t_i  >= D[i], \\forall i predecesseur de j\n",
    "@constraint(model, t[2] - t[1] >= D[1] )\n",
    "@constraint(model, t[4] - t[3] >= D[3] )\n",
    "@constraint(model, t[5] - t[4] >= D[4] )\n",
    "\n",
    "#define constraints: tfin - t_i >= Duree[i], \\forall i predecesseur de j\n",
    "@constraint(model, tfin - t[2] >= D[2] )\n",
    "@constraint(model, tfin - t[5] >= D[5] )\n",
    "\n",
    "println(model)\n",
    "\n",
    "print(\"start solve ... \")\n",
    "optimize!(model)\n",
    "print(\"... end solve\")\n",
    "\n",
    "\n",
    "println(\"\\n\\nSolution PL:\\n \\t t=\", value.(t), \"\\t tfin=\", value(tfin))\n"
   ]
  },
  {
   "cell_type": "code",
   "execution_count": 68,
   "metadata": {},
   "outputs": [
    {
     "name": "stdout",
     "output_type": "stream",
     "text": [
      "\tL: [0.0; 0.0; 6.0; 0.0; 3.0; 8.0; 13.0]\n",
      "\tPred: [0.0; 1.0; 2.0; 1.0; 4.0; 5.0; 3.0]\n",
      "Le chemin le plus long entre debut et T1.1 est de poids 0.0 : debut -> T1.1\n",
      "Le chemin le plus long entre debut et T1.2 est de poids 6.0 : debut -> T1.1 -> T1.2\n",
      "Le chemin le plus long entre debut et T2.1 est de poids 0.0 : debut -> T2.1\n",
      "Le chemin le plus long entre debut et T2.2 est de poids 3.0 : debut -> T2.1 -> T2.2\n",
      "Le chemin le plus long entre debut et T2.3 est de poids 8.0 : debut -> T2.1 -> T2.2 -> T2.3\n",
      "Le chemin le plus long entre debut et Fin est de poids 13.0 : debut -> T1.1 -> T1.2 -> Fin\n"
     ]
    }
   ],
   "source": [
    "function Algorithme_Bellman_Ford_long(arcs,poids, n, s)\n",
    "    # n : nombre de sommets\n",
    "    n = length(poids)\n",
    "    # tableau des distances depuis le sommet s\n",
    "    L = zeros(n,1)\n",
    "    Pred = zeros(n,1)\n",
    "    #initialisation\n",
    "    for i = 1:n\n",
    "        if i != s\n",
    "            L[i] = -Inf\n",
    "        end\n",
    "    end\n",
    "     \n",
    "    for k in 1:n\n",
    "        i = 1 #indice des arcs\n",
    "        for a in arcs\n",
    "            if L[a[2]] < (L[a[1]] + poids[i])\n",
    "                L[a[2]] = L[a[1]] + poids[i]\n",
    "                Pred[a[2]] = a[1]\n",
    "            end\n",
    "            i=i+1\n",
    "        end\n",
    "    end\n",
    "    return L,Pred\n",
    "end\n",
    "#L'exemple du sujet .\n",
    "n = 7 #nombre de sommets\n",
    "arcs = [(1,2);(1,4);(2,3);(3,7);(4,5);(5,6);(6,7)]\n",
    "poids = [0;0;6;7;3;5;1]\n",
    "L, Pred = Algorithme_Bellman_Ford_long(arcs, poids,n , 1)\n",
    "println(\"\\tL: $L\")\n",
    "println(\"\\tPred: $Pred\")\n",
    "noms = [ \"debut\" \"T1.1\" \"T1.2\" \"T2.1\" \"T2.2\" \"T2.3\" \"Fin\"]\n",
    "for i in 2:n\n",
    "    chemin = get_chemin(1, i, noms, Pred)\n",
    "    println(\"Le chemin le plus long entre debut et $(noms[i]) est de poids $(L[i]) : $chemin\")\n",
    "end"
   ]
  },
  {
   "cell_type": "markdown",
   "metadata": {},
   "source": [
    "### Remarque: \n",
    "La 1ère opération des travaux 1 et 2 s'exécutent en parallèle alors que les deux ne peuvent utiliser la machine M1 simultanément. Les contraintes sur les ressources ne sont donc pas vérifiées."
   ]
  },
  {
   "cell_type": "markdown",
   "metadata": {},
   "source": [
    "### 2.2 Modélisation des contraintes de ressources"
   ]
  },
  {
   "cell_type": "code",
   "execution_count": 102,
   "metadata": {},
   "outputs": [
    {
     "data": {
      "text/plain": [
       "Algorithme_Bellman_Ford_long (generic function with 3 methods)"
      ]
     },
     "execution_count": 102,
     "metadata": {},
     "output_type": "execute_result"
    }
   ],
   "source": [
    "# Obtenir les arcs et leurs poids d'un SimpleWeightedGraph g.\n",
    "function get_edges_weights(g)\n",
    "    arcs=[]\n",
    "    poids=[]\n",
    "    for i in edges(g)\n",
    "        if i.weight >0\n",
    "            push!(arcs,(i.src,i.dst))\n",
    "            push!(poids, i.weight)\n",
    "        end\n",
    "    end\n",
    "    return arcs,poids\n",
    "end\n",
    "# adaptation de l'algorithme pour les SimpleWeightedGraph.\n",
    "function Algorithme_Bellman_Ford_long(g, n, s)   \n",
    "    arcs, poids = get_edges_weights(g)\n",
    "    # tableau des distances depuis le sommet s\n",
    "    L = zeros(n,1)\n",
    "    Pred = zeros(n,1)\n",
    "    #initialisation\n",
    "    for i = 1:n\n",
    "        if i != s\n",
    "            L[i] = -Inf\n",
    "        end\n",
    "    end\n",
    "     \n",
    "    for k in 1:n\n",
    "        i=1\n",
    "        for a in arcs\n",
    "            if L[a[2]] < (L[a[1]] + poids[i])\n",
    "                L[a[2]] = L[a[1]] + poids[i]\n",
    "                Pred[a[2]] = a[1]\n",
    "            end\n",
    "            i=i+1\n",
    "        end\n",
    "    end\n",
    "    return L,Pred\n",
    "end"
   ]
  },
  {
   "cell_type": "code",
   "execution_count": 103,
   "metadata": {},
   "outputs": [
    {
     "data": {
      "text/plain": [
       "TestsSondabilite_relaxlin (generic function with 1 method)"
      ]
     },
     "execution_count": 103,
     "metadata": {},
     "output_type": "execute_result"
    }
   ],
   "source": [
    "#Procédure d'application des tests de sondabilités TO et TR pour le cas de la relaxation linéaire\n",
    "function TestsSondabilite_relaxlin(g, BestTfin, Bestsol, res,status)\n",
    "    TO, TR =  false, false\n",
    "    if(res >= BestTfin) #Test d'optimalite\n",
    "        TO=true\n",
    "        println(\"TO\")\n",
    "    elseif( listeDesArcs == []) #Test de resolution\n",
    "        TR=true\n",
    "        println(\"TR\")\n",
    "        if (res <= BestTfin)\n",
    "            Bestsol = status\n",
    "            BestTfin= res\n",
    "        end\n",
    "    else\n",
    "        println(\"non sondable\")\n",
    "    end\n",
    "    TO, TR, Bestsol, BestTfin\n",
    "end"
   ]
  },
  {
   "cell_type": "code",
   "execution_count": 104,
   "metadata": {},
   "outputs": [
    {
     "data": {
      "text/plain": [
       "ExplorerAutreNoeud_relaxlin (generic function with 2 methods)"
      ]
     },
     "execution_count": 104,
     "metadata": {},
     "output_type": "execute_result"
    }
   ],
   "source": [
    "function SeparerNoeud_relaxlin(g, listeDesArcs, listgraphs, listvals, listedges)\n",
    "    # le noeud est non-sondable. Appliquer le critère de séparation pour le séparer en sous-noeuds \n",
    "    # et choisir un noeud-fils le plus à gauche   \n",
    "    \n",
    "    #choisir un sens\n",
    "    edge = pop!(listeDesArcs)\n",
    "    e1 = edge[1]\n",
    "    e2 = edge[2]\n",
    "    \n",
    "    println(\"-----------separate the edge : \",e1, \"  ->  \", e2)\n",
    "    r = add_edge!(g,e1,e2, g.weights[e1 + 1,e1])\n",
    "    push!(listgraphs,g) \n",
    "    push!(listvals,1.0) #stocker la branche choisie\n",
    "    push!(listedges, (e1,e2))\n",
    "    g,listgraphs, listvals, listedges,listeDesArcs\n",
    "end\n",
    "\n",
    "\n",
    "function ExplorerAutreNoeud_relaxlin(listgraphs, listvals, listedges)\n",
    "    #this node is sondable, go back to parent node then right child if possible\n",
    "    \n",
    "    stop=false\n",
    "    #go back to parent node\n",
    "    graph=pop!(listgraphs)\n",
    "\n",
    "    theval=pop!(listvals)\n",
    "    edge = pop!(listedges) \n",
    "    edge1 = edge[1]\n",
    "    edge2 = edge[2]\n",
    "    rem_edge!(graph,edge1,edge2)\n",
    "    \n",
    "    #go to right child if possible, otherwise go back to parent\n",
    "    while( (theval==0.0) && (length(listgraphs)>= 1))\n",
    "        graph=pop!(listgraphs)\n",
    "        theval=pop!(listvals)\n",
    "         edge = pop!(listedges) \n",
    "        edge1 = edge[1]\n",
    "        edge2 = edge[2]\n",
    "        rem_edge!(graph,edge1,edge2)\n",
    "        push!(listeDesArcs,(edge2,edge1))  \n",
    "    end\n",
    "    if theval==1.0\n",
    "        r = add_edge!(graph,edge2,edge1, graph.weights[edge2 + 1,edge2])\n",
    "        if r == false\n",
    "            add_edge!(graph,edge2,edge1, graph.weights[nv(graph),edge2])\n",
    "        end\n",
    "        push!(listgraphs,graph)\n",
    "        push!(listedges,(edge2,edge1))\n",
    "        push!(listvals,0.0)\n",
    "\n",
    "    else\n",
    "        stop=true\n",
    "    end\n",
    "    graph,listvals, listedges, stop, listeDesArcs \n",
    "end"
   ]
  },
  {
   "cell_type": "code",
   "execution_count": 108,
   "metadata": {},
   "outputs": [
    {
     "name": "stdout",
     "output_type": "stream",
     "text": [
      "\n",
      "Node number 0: \n",
      "-----\n",
      "\n",
      "Solve : start ... \n",
      "GRAPH : SimpleWeightedEdge{Int64,Float64}[Edge 1 => 2 with weight 1.0, Edge 1 => 4 with weight 1.0, Edge 2 => 3 with weight 6.0, Edge 3 => 7 with weight 7.0, Edge 4 => 5 with weight 3.0, Edge 5 => 6 with weight 5.0, Edge 6 => 7 with weight 1.0]\n",
      " \n",
      "***** durée finale:   13.0******\n",
      "... end\n",
      " \n",
      "\n",
      "Solution precedemment memorisee Any[] avec date de fin 22\n",
      "\n",
      "non sondable\n",
      "--start separation--\n",
      "-----------separate the edge : 4  ->  2\n",
      "\n",
      "Node number 1: \n",
      "-----\n",
      "\n",
      "Solve : start ... \n",
      "GRAPH : SimpleWeightedEdge{Int64,Float64}[Edge 1 => 2 with weight 1.0, Edge 1 => 4 with weight 1.0, Edge 2 => 3 with weight 6.0, Edge 3 => 7 with weight 7.0, Edge 4 => 2 with weight 3.0, Edge 4 => 5 with weight 3.0, Edge 5 => 6 with weight 5.0, Edge 6 => 7 with weight 1.0]\n",
      " \n",
      "***** durée finale:   16.0******\n",
      "... end\n",
      " \n",
      "\n",
      "Solution precedemment memorisee Any[] avec date de fin 22\n",
      "\n",
      "non sondable\n",
      "--start separation--\n",
      "-----------separate the edge : 6  ->  3\n",
      "\n",
      "Node number 2: \n",
      "-----\n",
      "\n",
      "Solve : start ... \n",
      "GRAPH : SimpleWeightedEdge{Int64,Float64}[Edge 1 => 2 with weight 1.0, Edge 1 => 4 with weight 1.0, Edge 2 => 3 with weight 6.0, Edge 3 => 7 with weight 7.0, Edge 4 => 2 with weight 3.0, Edge 4 => 5 with weight 3.0, Edge 5 => 6 with weight 5.0, Edge 6 => 3 with weight 1.0, Edge 6 => 7 with weight 1.0]\n",
      " \n",
      "***** durée finale:   16.0******\n",
      "... end\n",
      " \n",
      "\n",
      "Solution precedemment memorisee Any[] avec date de fin 22\n",
      "\n",
      "TR\n",
      "--start exploration--\n",
      "--end--\n",
      "\n",
      "Node number 3: \n",
      "-----\n",
      "\n",
      "Solve : start ... \n",
      "GRAPH : SimpleWeightedEdge{Int64,Float64}[Edge 1 => 2 with weight 1.0, Edge 1 => 4 with weight 1.0, Edge 2 => 3 with weight 6.0, Edge 3 => 6 with weight 7.0, Edge 3 => 7 with weight 7.0, Edge 4 => 2 with weight 3.0, Edge 4 => 5 with weight 3.0, Edge 5 => 6 with weight 5.0, Edge 6 => 3 with weight 0.0, Edge 6 => 7 with weight 1.0]\n",
      " \n",
      "***** durée finale:   17.0******\n",
      "... end\n",
      " \n",
      "\n",
      "Solution precedemment memorisee [0.0; 4.0; 10.0; 1.0; 4.0; 9.0; 17.0] avec date de fin 16.0\n",
      "\n",
      "TO\n",
      "--start exploration--\n",
      "--end--\n",
      "\n",
      "Node number 4: \n",
      "-----\n",
      "\n",
      "Solve : start ... \n",
      "GRAPH : SimpleWeightedEdge{Int64,Float64}[Edge 1 => 2 with weight 1.0, Edge 1 => 4 with weight 1.0, Edge 2 => 3 with weight 6.0, Edge 2 => 4 with weight 6.0, Edge 3 => 6 with weight 0.0, Edge 3 => 7 with weight 7.0, Edge 4 => 2 with weight 0.0, Edge 4 => 5 with weight 3.0, Edge 5 => 6 with weight 5.0, Edge 6 => 3 with weight 0.0, Edge 6 => 7 with weight 1.0]\n",
      " \n",
      "***** durée finale:   15.0******\n",
      "... end\n",
      " \n",
      "\n",
      "Solution precedemment memorisee [0.0; 4.0; 10.0; 1.0; 4.0; 9.0; 17.0] avec date de fin 16.0\n",
      "\n",
      "non sondable\n",
      "--start separation--\n",
      "-----------separate the edge : 2  ->  4\n",
      "\n",
      "Node number 5: \n",
      "-----\n",
      "\n",
      "Solve : start ... \n",
      "GRAPH : SimpleWeightedEdge{Int64,Float64}[Edge 1 => 2 with weight 1.0, Edge 1 => 4 with weight 1.0, Edge 2 => 3 with weight 6.0, Edge 2 => 4 with weight 6.0, Edge 3 => 6 with weight 0.0, Edge 3 => 7 with weight 7.0, Edge 4 => 2 with weight 0.0, Edge 4 => 5 with weight 3.0, Edge 5 => 6 with weight 5.0, Edge 6 => 3 with weight 0.0, Edge 6 => 7 with weight 1.0]\n",
      " \n",
      "***** durée finale:   15.0******\n",
      "... end\n",
      " \n",
      "\n",
      "Solution precedemment memorisee [0.0; 4.0; 10.0; 1.0; 4.0; 9.0; 17.0] avec date de fin 16.0\n",
      "\n",
      "TR\n",
      "--start exploration--\n",
      "--end--\n",
      "\n",
      "Node number 6: \n",
      "-----\n",
      "\n",
      "Solve : start ... \n",
      "GRAPH : SimpleWeightedEdge{Int64,Float64}[Edge 1 => 2 with weight 1.0, Edge 1 => 4 with weight 1.0, Edge 2 => 3 with weight 6.0, Edge 2 => 4 with weight 0.0, Edge 3 => 6 with weight 0.0, Edge 3 => 7 with weight 7.0, Edge 4 => 2 with weight 3.0, Edge 4 => 5 with weight 3.0, Edge 5 => 6 with weight 5.0, Edge 6 => 3 with weight 0.0, Edge 6 => 7 with weight 1.0]\n",
      " \n",
      "***** durée finale:   16.0******\n",
      "... end\n",
      " \n",
      "\n",
      "Solution precedemment memorisee [0.0; 1.0; 7.0; 7.0; 10.0; 15.0; 16.0] avec date de fin 15.0\n",
      "\n",
      "TO\n",
      "--start exploration--\n",
      "--end--\n"
     ]
    }
   ],
   "source": [
    "using SimpleWeightedGraphs\n",
    "listedges=[]\n",
    "listvals=[]\n",
    "listgraphs=[]\n",
    "listeDesArcs = []\n",
    "push!(listeDesArcs,(6,3))\n",
    "push!(listeDesArcs,(4,2))\n",
    "g = SimpleWeightedDiGraph(7)  \n",
    "add_edge!(g, 1, 2, 1) \n",
    "#remarque : obligation de prendre les poids (1,2) et (1,4) non nulspour que l'arc soit pris en considération\n",
    "add_edge!(g, 2, 3, 6)\n",
    "add_edge!(g, 3, 7, 7)\n",
    "add_edge!(g, 1, 4, 1)\n",
    "add_edge!(g, 4, 5, 3)\n",
    "add_edge!(g, 5, 6, 5)\n",
    "add_edge!(g, 6, 7, 1)\n",
    "BestTfin=bigM\n",
    "Bestsol=[]\n",
    "\n",
    "current_node_number=0\n",
    "stop = false\n",
    "\n",
    "while(!stop)\n",
    "    \n",
    "    println(\"\\nNode number \", current_node_number, \": \\n-----\\n\")\n",
    "\n",
    "    println(\"Solve : start ... \")\n",
    "    println(\"GRAPH : \", collect(edges(g)))\n",
    "    status, ~ = Algorithme_Bellman_Ford_long(g, 7, 1)\n",
    "    res = status[7] - 1\n",
    "    println(\" \\n***** durée finale:   \",res ,\"******\")\n",
    "    println(\"... end\")\n",
    " \n",
    "    println(\" \"); println(\"\\nSolution precedemment memorisee \", Bestsol, \" avec date de fin \", BestTfin, \"\\n\")\n",
    "\n",
    "    TO, TR, Bestsol, BestTfin = TestsSondabilite_relaxlin(g, BestTfin, Bestsol,res, status)\n",
    "\n",
    "    is_node_sondable =  TO || TR\n",
    "    \n",
    "    if(!is_node_sondable)\n",
    "        println(\"--start separation--\")\n",
    "        g,listgraphs, listvals, listedges, listeDesArcs =SeparerNoeud_relaxlin(g, listeDesArcs, listgraphs, listvals, listedges)\n",
    "    else\n",
    "        println(\"--start exploration--\")\n",
    "        g,listvals, listedges, stop, listeDesArcs = ExplorerAutreNoeud_relaxlin(listgraphs, listvals, listedges)\n",
    "        println(\"--end--\")\n",
    "    end\n",
    "\n",
    "    current_node_number = current_node_number + 1\n",
    "end\n"
   ]
  },
  {
   "cell_type": "code",
   "execution_count": 107,
   "metadata": {},
   "outputs": [
    {
     "name": "stdout",
     "output_type": "stream",
     "text": [
      "\n",
      "******\n",
      "\n",
      "Optimal value = 15.0\n",
      "\n",
      "Optimal t=[0.0; 1.0; 7.0; 7.0; 10.0; 15.0; 16.0]\n"
     ]
    }
   ],
   "source": [
    "println(\"\\n******\\n\\nOptimal value = \", BestTfin, \"\\n\\nOptimal t=\", Bestsol)"
   ]
  },
  {
   "cell_type": "markdown",
   "metadata": {},
   "source": [
    "Remarque: il faut soustraire 1 des durées de la liste t car les arcs (1,2) et (1,4) étaint prises de poids égale à 1."
   ]
  },
  {
   "cell_type": "code",
   "execution_count": null,
   "metadata": {},
   "outputs": [],
   "source": []
  }
 ],
 "metadata": {
  "kernelspec": {
   "display_name": "Julia 1.4.2",
   "language": "julia",
   "name": "julia-1.4"
  },
  "language_info": {
   "file_extension": ".jl",
   "mimetype": "application/julia",
   "name": "julia",
   "version": "1.4.2"
  }
 },
 "nbformat": 4,
 "nbformat_minor": 4
}
