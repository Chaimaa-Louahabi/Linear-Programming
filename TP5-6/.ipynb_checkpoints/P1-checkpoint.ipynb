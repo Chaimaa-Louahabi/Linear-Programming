{
 "cells": [
  {
   "cell_type": "markdown",
   "metadata": {},
   "source": [
    "<center>\n",
    "<h1> TP 3 et 4- Recherche Operationnelle </h1>\n",
    "<h1> Année 2020-2021 - 2e année département Sciences du Numérique </h1>\n",
    "<h1> Noms:  Ghanim - Louahabi</h1>\n",
    "<h1> Prénoms:  Ahmed - Chaimaa</h1>    \n",
    "</center>"
   ]
  },
  {
   "cell_type": "markdown",
   "metadata": {},
   "source": [
    "## 1. Prise en main : ordonnancement avec contraintes de précédence"
   ]
  },
  {
   "cell_type": "markdown",
   "metadata": {},
   "source": [
    "Initialization (à décommenter et exécuter une seule fois)"
   ]
  },
  {
   "cell_type": "code",
   "execution_count": 3,
   "metadata": {
    "scrolled": true
   },
   "outputs": [
    {
     "name": "stderr",
     "output_type": "stream",
     "text": [
      "\u001b[32m\u001b[1m   Updating\u001b[22m\u001b[39m registry at `~/.julia/registries/General`\n"
     ]
    },
    {
     "name": "stdout",
     "output_type": "stream",
     "text": [
      "\u001b[?25l    "
     ]
    },
    {
     "name": "stderr",
     "output_type": "stream",
     "text": [
      "\u001b[32m\u001b[1m   Updating\u001b[22m\u001b[39m git-repo `https://github.com/JuliaRegistries/General.git`\n"
     ]
    },
    {
     "name": "stdout",
     "output_type": "stream",
     "text": [
      "\u001b[2K\u001b[?25h[1mFetching:\u001b[22m\u001b[39m [========================================>]  100.0 %[36m\u001b[1mFetching:\u001b[22m\u001b[39m [======>                                  ]  14.7 %>                           ]  31.8 %>                    ]  48.5 %>       ]  81.6 %\u001b[36m\u001b[1mFetching:\u001b[22m\u001b[39m [=======================================> ]  95.2 %\u001b[36m\u001b[1mFetching:\u001b[22m\u001b[39m [=======================================> ]  95.7 %\u001b[36m\u001b[1mFetching:\u001b[22m\u001b[39m [=======================================> ]  96.4 %"
     ]
    },
    {
     "name": "stderr",
     "output_type": "stream",
     "text": [
      "\u001b[32m\u001b[1m  Resolving\u001b[22m\u001b[39m package versions...\n",
      "\u001b[32m\u001b[1m  Installed\u001b[22m\u001b[39m FFTW_jll ─ v3.3.9+7\n",
      "\u001b[32m\u001b[1m  Installed\u001b[22m\u001b[39m Clp ────── v0.8.3\n",
      "######################################################################### 100,0%##O#- #                                                                        \n",
      "\u001b[32m\u001b[1m   Updating\u001b[22m\u001b[39m `/mnt/nosave/clouahab/.julia/environments/v1.4/Project.toml`\n",
      " \u001b[90m [e2554f3b]\u001b[39m\u001b[92m + Clp v0.8.3\u001b[39m\n",
      "\u001b[32m\u001b[1m   Updating\u001b[22m\u001b[39m `/mnt/nosave/clouahab/.julia/environments/v1.4/Manifest.toml`\n",
      " \u001b[90m [e2554f3b]\u001b[39m\u001b[92m + Clp v0.8.3\u001b[39m\n",
      " \u001b[90m [f5851436]\u001b[39m\u001b[93m ↑ FFTW_jll v3.3.9+6 ⇒ v3.3.9+7\u001b[39m\n",
      "\u001b[32m\u001b[1m   Building\u001b[22m\u001b[39m Clp → `~/.julia/packages/Clp/NUuKQ/deps/build.log`\n"
     ]
    }
   ],
   "source": [
    "import Pkg; Pkg.add(\"Clp\")"
   ]
  },
  {
   "cell_type": "markdown",
   "metadata": {},
   "source": [
    "## 1.1 Modélisation et résolution de (P1) à l'aide d'un programme linéaire"
   ]
  },
  {
   "cell_type": "code",
   "execution_count": 11,
   "metadata": {
    "scrolled": false
   },
   "outputs": [
    {
     "name": "stdout",
     "output_type": "stream",
     "text": [
      "Min tfin\n",
      "Subject to\n",
      " -t[1] + t[2] ≥ 2.0\n",
      " -t[1] + t[3] ≥ 2.0\n",
      " -t[2] + t[4] ≥ 3.0\n",
      " -t[3] + t[4] ≥ 1.0\n",
      " -t[3] + t[5] ≥ 1.0\n",
      " -t[4] + tfin ≥ 4.0\n",
      " -t[5] + tfin ≥ 1.0\n",
      " t[1] ≥ 0.0\n",
      " t[2] ≥ 0.0\n",
      " t[3] ≥ 0.0\n",
      " t[4] ≥ 0.0\n",
      " t[5] ≥ 0.0\n",
      "\n",
      "start solve ... ... end solve\n",
      "\n",
      "Solution PL:\n",
      " \t t=[0.0, 2.0, 2.0, 5.0, 8.0]\t tfin=9.0\n"
     ]
    }
   ],
   "source": [
    "using JuMP\n",
    "using Clp\n",
    "\n",
    "model = Model(Clp.Optimizer) # set optimizer\n",
    "set_optimizer_attribute(model, \"LogLevel\", 0) #don't display anything during solve\n",
    "set_optimizer_attribute(model, \"Algorithm\", 4) #LP solver chosen is simplex\n",
    "#Récupération des données\n",
    "D=[2, 3, 1, 4, 1]\n",
    "# define t variables\n",
    "@variable(model, t[i in 1:5] >= 0)\n",
    "@variable(model, tfin)\n",
    "\n",
    "# define objective function\n",
    "@objective(model, Min, tfin)\n",
    "\n",
    "# define constraints: t_j - t_i  >= D[i], \\forall i predecesseur de j\n",
    "@constraint(model, t[2] - t[1] >= D[1] )\n",
    "@constraint(model, t[3] - t[1] >= D[1] )\n",
    "@constraint(model, t[4] - t[2] >= D[2] )\n",
    "@constraint(model, t[4] - t[3] >= D[3] )\n",
    "@constraint(model, t[5] - t[3] >= D[3] )\n",
    "\n",
    "#define constraints: tfin - t_i >= Duree[i], \\forall i predecesseur de j\n",
    "@constraint(model, tfin - t[4] >= D[4] )\n",
    "@constraint(model, tfin - t[5] >= D[5] )\n",
    "\n",
    "println(model)\n",
    "\n",
    "print(\"start solve ... \")\n",
    "optimize!(model)\n",
    "print(\"... end solve\")\n",
    "\n",
    "\n",
    "println(\"\\n\\nSolution PL:\\n \\t t=\", value.(t), \"\\t tfin=\", value(tfin))\n"
   ]
  },
  {
   "cell_type": "markdown",
   "metadata": {},
   "source": [
    "## 1.2 Modélisation et résolution de (P1) à l'aide d'un graphe potentiel-tâche"
   ]
  },
  {
   "cell_type": "code",
   "execution_count": 9,
   "metadata": {},
   "outputs": [
    {
     "name": "stdout",
     "output_type": "stream",
     "text": [
      "\tL: [0.0; 2.0; 2.0; 5.0; 3.0; 9.0]\n",
      "\tPred: [0.0; 1.0; 1.0; 2.0; 3.0; 4.0]\n",
      "Le chemin le plus long entre A et B est de poids 2.0 : A -> B\n",
      "Le chemin le plus long entre A et C est de poids 2.0 : A -> C\n",
      "Le chemin le plus long entre A et D est de poids 5.0 : A -> B -> D\n",
      "Le chemin le plus long entre A et E est de poids 3.0 : A -> C -> E\n",
      "Le chemin le plus long entre A et F est de poids 9.0 : A -> B -> D -> F\n"
     ]
    }
   ],
   "source": [
    "#Calcul du plus long chemin\n",
    "function Algorithme_Bellman_Ford_long(G, s)\n",
    "    # n : nombre de sommets\n",
    "    n = size(G, 1)\n",
    "    # tableau des distances depuis le sommet s\n",
    "    L = zeros(n,1)\n",
    "    Pred = zeros(n,1)\n",
    "    arcs = get_arcs(G)\n",
    "    for i = 1:n\n",
    "        if i != s\n",
    "            L[i] = -Inf\n",
    "        end\n",
    "    end\n",
    "    for k in 1:n\n",
    "        for a in arcs\n",
    "            if L[a[2]] < (L[a[1]] + G[a[1],a[2]])\n",
    "                L[a[2]] = L[a[1]] + G[a[1],a[2]]\n",
    "                Pred[a[2]] = a[1]\n",
    "            end\n",
    "        end\n",
    "    end\n",
    "    return L,Pred\n",
    "end\n",
    "# Fonction auxiliaire qui retourne un string decrivant le chemin entre source et destination\n",
    "# noms : liste des noms des sommets# Pred : liste des predecésseurs\n",
    "function get_chemin(source, destination, noms, Pred)\n",
    "    chemin = noms[destination]\n",
    "    j = destination\n",
    "    while Int(Pred[j]) != source\n",
    "        k = Int(Pred[j])\n",
    "        chemin  = string(noms[k],\" -> \", chemin)\n",
    "        j = k\n",
    "    end\n",
    "    chemin  = string(noms[source],\" -> \", chemin)\n",
    "    return chemin\n",
    "end\n",
    "#fonction auxiliaire qui retourne une liste de tuples, chaque tuple est un arc du graphe G\n",
    "function get_arcs(G)\n",
    "    u = []\n",
    "    n = size(G,1)\n",
    "    for i in 1:n\n",
    "        for j in 1:n\n",
    "            if G[i,j] != 0\n",
    "                push!(u,(i,j))\n",
    "            end\n",
    "        end\n",
    "    end\n",
    "    return u\n",
    "end\n",
    "G = [\n",
    "    0 2 2 0 0 0 ;\n",
    "    0 0 0 3 0 0 ;\n",
    "    0 0 0 1 1 0 ;\n",
    "    0 0 0 0 0 4 ;\n",
    "    0 0 0 0 0 1 ;\n",
    "    0 0 0 0 0 0\n",
    "]\n",
    "n = size(G,1)\n",
    "L, Pred = Algorithme_Bellman_Ford_long(G, 1)\n",
    "println(\"\\tL: $L\")\n",
    "println(\"\\tPred: $Pred\")\n",
    "noms = [\"A\" \"B\" \"C\" \"D\" \"E\" \"Fin\"]\n",
    "for i in 2:n\n",
    "    chemin = get_chemin(1, i, noms, Pred)\n",
    "    println(\"Le chemin le plus long entre A et $(noms[i]) est de poids $(L[i]) : $chemin\")\n",
    "end"
   ]
  },
  {
   "cell_type": "markdown",
   "metadata": {},
   "source": [
    "### Comparaison : \n",
    "On voit la différence entre les deux méthodes au niveau de E, avec Bellman, on calcule la date au plus tôt, et avec la programmation linéaire on calcule la date au plus tard. La durée totale d'exécution est la même."
   ]
  },
  {
   "cell_type": "markdown",
   "metadata": {},
   "source": [
    "## 2. Job-shop : ordonnancement avec contraintes de précédence et contraintes de ressources"
   ]
  },
  {
   "cell_type": "markdown",
   "metadata": {},
   "source": [
    "### 2.1 Relaxation des contraintes de ressources"
   ]
  },
  {
   "cell_type": "code",
   "execution_count": null,
   "metadata": {},
   "outputs": [],
   "source": []
  }
 ],
 "metadata": {
  "kernelspec": {
   "display_name": "Julia 1.4.2",
   "language": "julia",
   "name": "julia-1.4"
  },
  "language_info": {
   "file_extension": ".jl",
   "mimetype": "application/julia",
   "name": "julia",
   "version": "1.4.2"
  }
 },
 "nbformat": 4,
 "nbformat_minor": 4
}
