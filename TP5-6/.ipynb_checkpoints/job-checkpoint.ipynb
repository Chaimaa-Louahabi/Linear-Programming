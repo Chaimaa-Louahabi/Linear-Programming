{
 "cells": [
  {
   "cell_type": "markdown",
   "metadata": {},
   "source": [
    "# TP 5-6 : Partie 2.3.2 : PSE basée sur le graphe disjonctif"
   ]
  },
  {
   "cell_type": "markdown",
   "metadata": {},
   "source": [
    "Initialization (à faire une seule fois)"
   ]
  },
  {
   "cell_type": "code",
   "execution_count": 8,
   "metadata": {},
   "outputs": [
    {
     "name": "stderr",
     "output_type": "stream",
     "text": [
      "\u001b[32m\u001b[1m   Updating\u001b[22m\u001b[39m registry at `~/.julia/registries/General`\n"
     ]
    },
    {
     "name": "stdout",
     "output_type": "stream",
     "text": [
      "\u001b[?25l    "
     ]
    },
    {
     "name": "stderr",
     "output_type": "stream",
     "text": [
      "\u001b[32m\u001b[1m   Updating\u001b[22m\u001b[39m git-repo `https://github.com/JuliaRegistries/General.git`\n"
     ]
    },
    {
     "name": "stdout",
     "output_type": "stream",
     "text": [
      "\u001b[2K\u001b[?25h[1mFetching:\u001b[22m\u001b[39m [========================================>]  100.0 %[36m\u001b[1mFetching:\u001b[22m\u001b[39m [======>                                  ]  13.5 %\u001b[36m\u001b[1mFetching:\u001b[22m\u001b[39m [==============>                          ]  34.4 %>                     ]  47.5 % [=========================>               ]  60.7 %\u001b[36m\u001b[1mFetching:\u001b[22m\u001b[39m [===============================>         ]  76.0 %    ]  89.1 %"
     ]
    },
    {
     "name": "stderr",
     "output_type": "stream",
     "text": [
      "\u001b[32m\u001b[1m  Resolving\u001b[22m\u001b[39m package versions...\n",
      "\u001b[32m\u001b[1m  Installed\u001b[22m\u001b[39m SimpleWeightedGraphs ─ v1.1.1\n",
      "\u001b[32m\u001b[1m   Updating\u001b[22m\u001b[39m `/mnt/nosave/clouahab/.julia/environments/v1.4/Project.toml`\n",
      " \u001b[90m [47aef6b3]\u001b[39m\u001b[92m + SimpleWeightedGraphs v1.1.1\u001b[39m\n",
      "\u001b[32m\u001b[1m   Updating\u001b[22m\u001b[39m `/mnt/nosave/clouahab/.julia/environments/v1.4/Manifest.toml`\n",
      " \u001b[90m [47aef6b3]\u001b[39m\u001b[92m + SimpleWeightedGraphs v1.1.1\u001b[39m\n",
      "\u001b[32m\u001b[1m  Resolving\u001b[22m\u001b[39m package versions...\n",
      "\u001b[32m\u001b[1m   Updating\u001b[22m\u001b[39m `/mnt/nosave/clouahab/.julia/environments/v1.4/Project.toml`\n",
      "\u001b[90m [no changes]\u001b[39m\n",
      "\u001b[32m\u001b[1m   Updating\u001b[22m\u001b[39m `/mnt/nosave/clouahab/.julia/environments/v1.4/Manifest.toml`\n",
      "\u001b[90m [no changes]\u001b[39m\n"
     ]
    }
   ],
   "source": [
    "import Pkg; Pkg.add(\"SimpleWeightedGraphs\")\n",
    "import Pkg; Pkg.add(\"LightGraphs\")"
   ]
  },
  {
   "cell_type": "markdown",
   "metadata": {},
   "source": [
    "Récupération des données"
   ]
  },
  {
   "cell_type": "code",
   "execution_count": 9,
   "metadata": {},
   "outputs": [
    {
     "data": {
      "text/plain": [
       "3"
      ]
     },
     "execution_count": 9,
     "metadata": {},
     "output_type": "execute_result"
    }
   ],
   "source": [
    "MachinesParJob=[1 3 0; 1 2 3]\n",
    "Duree=[6 7 0; 3 5 1]\n",
    "bigM=sum(Duree)\n",
    "nombreTravaux = size(MachinesParJob)[1]\n",
    "nombreMachines = size(MachinesParJob)[2]"
   ]
  },
  {
   "cell_type": "code",
   "execution_count": 10,
   "metadata": {},
   "outputs": [
    {
     "data": {
      "text/plain": [
       "6×2 Array{Int64,2}:\n",
       " 1  4\n",
       " 2  6\n",
       " 0  0\n",
       " 0  0\n",
       " 0  0\n",
       " 0  0"
      ]
     },
     "execution_count": 10,
     "metadata": {},
     "output_type": "execute_result"
    }
   ],
   "source": [
    "global listeDesArcs = zeros(Int, 6, 2)\n",
    "#####################################################################\n",
    "function findArcs()\n",
    "    for i in 1 : nombreMachines\n",
    "        for j in 1 : nombreMachines\n",
    "            if MachinesParJob[1,i] == MachinesParJob[2,j]\n",
    "                listeDesArcs[i,1] = i\n",
    "                listeDesArcs[i,2] = j + nombreMachines\n",
    "            end\n",
    "        end\n",
    "    end\n",
    "    return listeDesArcs\n",
    "end\n",
    "listeDesArcs = findArcs()"
   ]
  },
  {
   "cell_type": "markdown",
   "metadata": {},
   "source": [
    "Procédure d'application des tests de sondabilités TA, TO et TR pour le cas de la relaxation linéaire"
   ]
  },
  {
   "cell_type": "code",
   "execution_count": 28,
   "metadata": {},
   "outputs": [
    {
     "data": {
      "text/plain": [
       "TestsSondabilite_relaxlin (generic function with 1 method)"
      ]
     },
     "execution_count": 28,
     "metadata": {},
     "output_type": "execute_result"
    }
   ],
   "source": [
    "function TestsSondabilite_relaxlin(g, BestTfin, Bestsol, res,status)\n",
    "     TO, TR = false, false\n",
    "  \n",
    "    if(res >= BestTfin) #Test d'optimalite\n",
    "        TO=true\n",
    "        println(\"TO\")\n",
    "    elseif( listeDesArcs == []) #Test de resolution\n",
    "        TR=true\n",
    "        println(\"TR\")\n",
    "        if (res <= BestTfin)\n",
    "            Bestsol = status\n",
    "            BestTfin= res\n",
    "        end\n",
    "    else\n",
    "        println(\"non sondable\")\n",
    "    end\n",
    "     TO, TR, Bestsol, BestTfin\n",
    "end"
   ]
  },
  {
   "cell_type": "markdown",
   "metadata": {},
   "source": [
    "Procédure de séparation et stratégie d'exploration permettant de se placer au prochain noeud à traiter"
   ]
  },
  {
   "cell_type": "code",
   "execution_count": 24,
   "metadata": {},
   "outputs": [
    {
     "data": {
      "text/plain": [
       "ExplorerAutreNoeud_relaxlin (generic function with 1 method)"
      ]
     },
     "execution_count": 24,
     "metadata": {},
     "output_type": "execute_result"
    }
   ],
   "source": [
    "function SeparerNoeud_relaxlin(g, listeDesArcs, listgraphs, listvals, listedges)\n",
    "    # le noeud est non-sondable. Appliquer le critère de séparation pour le séparer en sous-noeuds \n",
    "    # et choisir un noeud-fils le plus à gauche   \n",
    "    \n",
    "    #choisir un sens\n",
    "    edge = pop!(listeDesArcs)\n",
    "    e1 = edge[1]\n",
    "    e2 = edge[2]\n",
    "    \n",
    "    println(\"-----------e1 : \",e1)\n",
    "    println(\"-----------e2 : \",e2)\n",
    "\n",
    "    r = add_edge!(g,e1,e2, g.weights[e1 + 1,e1])\n",
    "    push!(listgraphs,g) #stocker l'identite de la variable choisie pour la séparation\n",
    "    push!(listvals,1.0) #stocker la branche choisie, identifiee par la valeur de la variable choisie\n",
    "    push!(listedges, (e1,e2))\n",
    "    g,listgraphs, listvals, listedges,listeDesArcs\n",
    "end\n",
    "\n",
    "\n",
    "function ExplorerAutreNoeud_relaxlin(listgraphs, listvals, listedges)\n",
    "    #this node is sondable, go back to parent node then right child if possible\n",
    "    \n",
    "    stop=false\n",
    "    #go back to parent node\n",
    "    graph=pop!(listgraphs)\n",
    "\n",
    "    theval=pop!(listvals)\n",
    "    edge = pop!(listedges) \n",
    "    edge1 = edge[1]\n",
    "    edge2 = edge[2]\n",
    "    rem_edge!(graph,edge1,edge2)\n",
    "    \n",
    "    #go to right child if possible, otherwise go back to parent\n",
    "    while( (theval==0.0) && (length(listgraphs)>= 1))\n",
    "        graph=pop!(listgraphs)\n",
    "        theval=pop!(listvals)\n",
    "         edge = pop!(listedges) \n",
    "        edge1 = edge[1]\n",
    "        edge2 = edge[2]\n",
    "        rem_edge!(graph,edge1,edge2)\n",
    "        push!(listeDesArcs,(edge2,edge1))  \n",
    "    end\n",
    "    if theval==1.0\n",
    "        r = add_edge!(graph,edge2,edge1, graph.weights[edge2 + 1,edge2])\n",
    "        if r == false\n",
    "            add_edge!(graph,edge2,edge1, graph.weights[nv(graph),edge2])\n",
    "        end\n",
    "        \n",
    "\n",
    "        push!(listgraphs,graph)\n",
    "        push!(listedges,(edge2,edge1))\n",
    "        push!(listvals,0.0)\n",
    "\n",
    "    else\n",
    "        stop=true\n",
    "    end\n",
    "    graph,listvals, listedges, stop, listeDesArcs \n",
    "end"
   ]
  },
  {
   "cell_type": "markdown",
   "metadata": {},
   "source": [
    "Creation de la relaxation linéaire (= modèle associé au noeud 0)"
   ]
  },
  {
   "cell_type": "code",
   "execution_count": 25,
   "metadata": {},
   "outputs": [
    {
     "data": {
      "text/plain": [
       "Algorithme_Bellman_Ford_long (generic function with 1 method)"
      ]
     },
     "execution_count": 25,
     "metadata": {},
     "output_type": "execute_result"
    }
   ],
   "source": [
    "function get_edges_weights(g)\n",
    "    arcs=[]\n",
    "    poids=[]\n",
    "    for i in edges(g)\n",
    "        if i.weight >0\n",
    "            push!(arcs,(i.src,i.dst))\n",
    "            push!(poids, i.weight)\n",
    "        end\n",
    "    end\n",
    "end\n",
    "function Algorithme_Bellman_Ford_long(g, n, s)   \n",
    "    arcs, poids = get_edges_weights(g)\n",
    "    # tableau des distances depuis le sommet s\n",
    "    L = zeros(n,1)\n",
    "    Pred = zeros(n,1)\n",
    "    #initialisation\n",
    "    for i = 1:n\n",
    "        if i != s\n",
    "            L[i] = -Inf\n",
    "        end\n",
    "    end\n",
    "     \n",
    "    for k in 1:n\n",
    "        i=1\n",
    "        for a in arcs\n",
    "            if L[a[2]] < (L[a[1]] + poids[i])\n",
    "                L[a[2]] = L[a[1]] + poids[i]\n",
    "                Pred[a[2]] = a[1]\n",
    "            end\n",
    "            i=i+1\n",
    "        end\n",
    "    end\n",
    "    return L,Pred\n",
    "end"
   ]
  },
  {
   "cell_type": "markdown",
   "metadata": {},
   "source": [
    "Boucle principale : résoudre la relaxation linéaire, appliquer les tests de sondabilité, identifier le prochain noeud, répéter."
   ]
  },
  {
   "cell_type": "code",
   "execution_count": 39,
   "metadata": {},
   "outputs": [
    {
     "name": "stdout",
     "output_type": "stream",
     "text": [
      "\n",
      "Node number 0: \n",
      "-----\n",
      "\n",
      "Solve : start ... \n",
      "GRAPH : SimpleWeightedEdge{Int64,Float64}[Edge 1 => 2 with weight 1.0, Edge 1 => 4 with weight 1.0, Edge 2 => 3 with weight 6.0, Edge 3 => 7 with weight 7.0, Edge 4 => 5 with weight 3.0, Edge 5 => 6 with weight 5.0, Edge 6 => 7 with weight 1.0]\n",
      " tfin:   13.0\n",
      "... end\n",
      " \n",
      "\n",
      "Solution precedemment memorisee Any[] avec date de fin 22\n",
      "\n",
      "non sondable\n",
      "--start separation--\n",
      "-----------e1 : 4\n",
      "-----------e2 : 2\n",
      "\n",
      "Node number 1: \n",
      "-----\n",
      "\n",
      "Solve : start ... \n",
      "GRAPH : SimpleWeightedEdge{Int64,Float64}[Edge 1 => 2 with weight 1.0, Edge 1 => 4 with weight 1.0, Edge 2 => 3 with weight 6.0, Edge 3 => 7 with weight 7.0, Edge 4 => 2 with weight 3.0, Edge 4 => 5 with weight 3.0, Edge 5 => 6 with weight 5.0, Edge 6 => 7 with weight 1.0]\n",
      " tfin:   16.0\n",
      "... end\n",
      " \n",
      "\n",
      "Solution precedemment memorisee Any[] avec date de fin 22\n",
      "\n",
      "non sondable\n",
      "--start separation--\n",
      "-----------e1 : 6\n",
      "-----------e2 : 3\n",
      "\n",
      "Node number 2: \n",
      "-----\n",
      "\n",
      "Solve : start ... \n",
      "GRAPH : SimpleWeightedEdge{Int64,Float64}[Edge 1 => 2 with weight 1.0, Edge 1 => 4 with weight 1.0, Edge 2 => 3 with weight 6.0, Edge 3 => 7 with weight 7.0, Edge 4 => 2 with weight 3.0, Edge 4 => 5 with weight 3.0, Edge 5 => 6 with weight 5.0, Edge 6 => 3 with weight 1.0, Edge 6 => 7 with weight 1.0]\n",
      " tfin:   16.0\n",
      "... end\n",
      " \n",
      "\n",
      "Solution precedemment memorisee Any[] avec date de fin 22\n",
      "\n",
      "TR\n",
      "--start exploration--\n",
      "--end--\n",
      "\n",
      "Node number 3: \n",
      "-----\n",
      "\n",
      "Solve : start ... \n",
      "GRAPH : SimpleWeightedEdge{Int64,Float64}[Edge 1 => 2 with weight 1.0, Edge 1 => 4 with weight 1.0, Edge 2 => 3 with weight 6.0, Edge 3 => 6 with weight 7.0, Edge 3 => 7 with weight 7.0, Edge 4 => 2 with weight 3.0, Edge 4 => 5 with weight 3.0, Edge 5 => 6 with weight 5.0, Edge 6 => 3 with weight 0.0, Edge 6 => 7 with weight 1.0]\n",
      " tfin:   56.0\n",
      "... end\n",
      " \n",
      "\n",
      "Solution precedemment memorisee [0.0; 4.0; 10.0; 1.0; 4.0; 9.0; 17.0] avec date de fin 16.0\n",
      "\n",
      "TO\n",
      "--start exploration--\n",
      "--end--\n",
      "\n",
      "Node number 4: \n",
      "-----\n",
      "\n",
      "Solve : start ... \n",
      "GRAPH : SimpleWeightedEdge{Int64,Float64}[Edge 1 => 2 with weight 1.0, Edge 1 => 4 with weight 1.0, Edge 2 => 3 with weight 6.0, Edge 2 => 4 with weight 6.0, Edge 3 => 6 with weight 0.0, Edge 3 => 7 with weight 7.0, Edge 4 => 2 with weight 0.0, Edge 4 => 5 with weight 3.0, Edge 5 => 6 with weight 5.0, Edge 6 => 3 with weight 0.0, Edge 6 => 7 with weight 1.0]\n",
      " tfin:   51.0\n",
      "... end\n",
      " \n",
      "\n",
      "Solution precedemment memorisee [0.0; 4.0; 10.0; 1.0; 4.0; 9.0; 17.0] avec date de fin 16.0\n",
      "\n",
      "TO\n",
      "--start exploration--\n",
      "--end--\n"
     ]
    },
    {
     "data": {
      "text/plain": [
       "([0.0; 1.0; … ; 9.0; 16.0], [0.0; 1.0; … ; 5.0; 3.0])"
      ]
     },
     "execution_count": 39,
     "metadata": {},
     "output_type": "execute_result"
    }
   ],
   "source": [
    "\n",
    "using SimpleWeightedGraphs, LightGraphs\n",
    "listedges=[]\n",
    "listvals=[]\n",
    "listgraphs=[]\n",
    "#listeDesArcs = [4 2;6 3]\n",
    "listeDesArcs = []\n",
    "push!(listeDesArcs,(6,3))\n",
    "push!(listeDesArcs,(4,2))\n",
    "g = SimpleWeightedDiGraph(7)  \n",
    "    add_edge!(g, 1, 2, 1)\n",
    "    add_edge!(g, 2, 3, 6)\n",
    "    add_edge!(g, 3, 7, 7)\n",
    "    add_edge!(g, 1, 4, 1)\n",
    "    add_edge!(g, 4, 5, 3)\n",
    "    add_edge!(g, 5, 6, 5)\n",
    "    add_edge!(g, 6, 7, 1)\n",
    "\n",
    "\n",
    "BestTfin=bigM\n",
    "Bestsol=[]\n",
    "\n",
    "current_node_number=0\n",
    "stop = false\n",
    "\n",
    "while(!stop)\n",
    "    \n",
    "    println(\"\\nNode number \", current_node_number, \": \\n-----\\n\")\n",
    "\n",
    "    println(\"Solve : start ... \")\n",
    "    println(\"GRAPH : \", collect(edges(g)))\n",
    "    status, Pred = Algorithme_Bellman_Ford_long(g, 7, 1)\n",
    "    #println(status)\n",
    "    res = status[7] - 1\n",
    "    println(\" tfin:   \",res)\n",
    "    println(\"... end\")\n",
    " \n",
    "    println(\" \"); println(\"\\nSolution precedemment memorisee \", Bestsol, \" avec date de fin \", BestTfin, \"\\n\")\n",
    "\n",
    "     TO, TR, Bestsol, BestTfin = TestsSondabilite_relaxlin(g, BestTfin, Bestsol,res, status)\n",
    "\n",
    "    is_node_sondable =  TO || TR\n",
    "    \n",
    "    if(!is_node_sondable)\n",
    "        println(\"--start separation--\")\n",
    "        g,listgraphs, listvals, listedges, listeDesArcs =SeparerNoeud_relaxlin(g, listeDesArcs, listgraphs, listvals, listedges)\n",
    "    else\n",
    "        println(\"--start exploration--\")\n",
    "        g,listvals, listedges, stop, listeDesArcs = ExplorerAutreNoeud_relaxlin(listgraphs, listvals, listedges)\n",
    "        println(\"--end--\")\n",
    "    end\n",
    "\n",
    "    current_node_number = current_node_number + 1\n",
    "end\n",
    "Algorithme_Bellman_Ford_long(g,7 , 1)"
   ]
  },
  {
   "cell_type": "code",
   "execution_count": 30,
   "metadata": {},
   "outputs": [
    {
     "name": "stdout",
     "output_type": "stream",
     "text": [
      "\n",
      "******\n",
      "\n",
      "Optimal value = 16.0\n",
      "\n",
      "Optimal t=[0.0; 4.0; 10.0; 1.0; 4.0; 9.0; 17.0]\n"
     ]
    }
   ],
   "source": [
    "println(\"\\n******\\n\\nOptimal value = \", BestTfin, \"\\n\\nOptimal t=\", Bestsol)"
   ]
  },
  {
   "cell_type": "code",
   "execution_count": 40,
   "metadata": {},
   "outputs": [
    {
     "data": {
      "text/plain": [
       "(Any[(1, 2), (1, 4), (2, 3), (2, 4), (3, 6), (3, 7), (4, 2), (4, 5), (5, 6), (6, 3), (6, 7)], Any[1.0, 1.0, 6.0, 0.0, 0.0, 7.0, 0.0, 3.0, 5.0, 0.0, 1.0])"
      ]
     },
     "execution_count": 40,
     "metadata": {},
     "output_type": "execute_result"
    }
   ],
   "source": [
    "L, T = Algorithme_Bellman_Ford_long(g,7 , 1)\n",
    "L\n",
    "get_edges_weights(g)"
   ]
  },
  {
   "cell_type": "code",
   "execution_count": null,
   "metadata": {},
   "outputs": [],
   "source": []
  }
 ],
 "metadata": {
  "kernelspec": {
   "display_name": "Julia 1.4.2",
   "language": "julia",
   "name": "julia-1.4"
  },
  "language_info": {
   "file_extension": ".jl",
   "mimetype": "application/julia",
   "name": "julia",
   "version": "1.4.2"
  }
 },
 "nbformat": 4,
 "nbformat_minor": 4
}
