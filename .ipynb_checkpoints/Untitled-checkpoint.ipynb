{
 "cells": [
  {
   "cell_type": "code",
   "execution_count": null,
   "metadata": {},
   "outputs": [],
   "source": [
    "# fonctionne pour JuMP version 0.21.5\n",
    "using Cbc\n",
    "using JuMP\n",
    "\n",
    "# data\n",
    "N = 3 # nombre de magasins disponibles\n",
    "c = [1 1;2 3; 3 2] # prix de vente par ciment\n",
    "b = [360,480] # temps de disponibilité du four et de l'atelier\n",
    "A = [40 12;20 30] # temps nécessaire de calcination (four) et de broyage (atelier) par ciment\n",
    "\n",
    "# set optimizer\n",
    "model = Model(Cbc.Optimizer)\n",
    "\n",
    "# define variables\n",
    "@variable(model, ciment[1:N] >= 0)\n",
    "\n",
    "# define objective function\n",
    "@objective(model, Max, sum(c[i]*ciment[i] for i in 1:N))\n",
    "\n",
    "# define constraints\n",
    "for i in 1:length(b)\n",
    "    @constraint(model, sum(A[i,j]*ciment[j] for j in 1:N) <= b[i])\n",
    "end\n",
    "\n",
    "# run optimization\n",
    "optimize!(model)\n"
   ]
  }
 ],
 "metadata": {
  "kernelspec": {
   "display_name": "Julia 1.4.2",
   "language": "julia",
   "name": "julia-1.4"
  },
  "language_info": {
   "file_extension": ".jl",
   "mimetype": "application/julia",
   "name": "julia",
   "version": "1.4.2"
  }
 },
 "nbformat": 4,
 "nbformat_minor": 2
}
