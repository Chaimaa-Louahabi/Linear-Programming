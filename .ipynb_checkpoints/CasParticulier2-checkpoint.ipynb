{
 "cells": [
  {
   "cell_type": "code",
   "execution_count": 1,
   "metadata": {},
   "outputs": [
    {
     "name": "stderr",
     "output_type": "stream",
     "text": [
      "\u001b[32m\u001b[1m   Updating\u001b[22m\u001b[39m registry at `C:\\Users\\ahmed\\.julia\\registries\\General`\n",
      "\u001b[32m\u001b[1m  Resolving\u001b[22m\u001b[39m package versions...\n",
      "\u001b[32m\u001b[1mNo Changes\u001b[22m\u001b[39m to `C:\\Users\\ahmed\\.julia\\environments\\v1.5\\Project.toml`\n",
      "\u001b[32m\u001b[1mNo Changes\u001b[22m\u001b[39m to `C:\\Users\\ahmed\\.julia\\environments\\v1.5\\Manifest.toml`\n",
      "\u001b[32m\u001b[1m  Resolving\u001b[22m\u001b[39m package versions...\n",
      "\u001b[32m\u001b[1mNo Changes\u001b[22m\u001b[39m to `C:\\Users\\ahmed\\.julia\\environments\\v1.5\\Project.toml`\n",
      "\u001b[32m\u001b[1mNo Changes\u001b[22m\u001b[39m to `C:\\Users\\ahmed\\.julia\\environments\\v1.5\\Manifest.toml`\n"
     ]
    }
   ],
   "source": [
    "#importer les packages utiles, le manager de package Pkg etant un package\n",
    "import Pkg; Pkg.add(\"Cbc\")\n",
    "Pkg.add(\"JuMP\")"
   ]
  },
  {
   "cell_type": "code",
   "execution_count": 6,
   "metadata": {},
   "outputs": [
    {
     "name": "stdout",
     "output_type": "stream",
     "text": [
      "Welcome to the CBC MILP Solver \n",
      "Version: 2.10.3 \n",
      "Build Date: Jan  1 1970 \n",
      "\n",
      "command line - Cbc_C_Interface -solve -quit (default strategy 1)\n",
      "Continuous objective value is 9.5 - 0.00 seconds\n",
      "Cgl0003I 0 fixed, 0 tightened bounds, 1 strengthened rows, 0 substitutions\n",
      "Cgl0003I 0 fixed, 0 tightened bounds, 1 strengthened rows, 0 substitutions\n",
      "Cgl0004I processed model has 6 rows, 9 columns (9 integer (6 of which binary)) and 17 elements\n",
      "Cbc0012I Integer solution of 10 found by DiveCoefficient after 0 iterations and 0 nodes (0.00 seconds)\n",
      "Cbc0001I Search completed - best objective 10, took 0 iterations and 0 nodes (0.01 seconds)\n",
      "Cbc0035I Maximum depth 0, 0 variables fixed on reduced cost\n",
      "Cuts at root node changed objective from 10 to 10\n",
      "Probing was tried 0 times and created 0 cuts of which 0 were active after adding rounds of cuts (0.000 seconds)\n",
      "Gomory was tried 0 times and created 0 cuts of which 0 were active after adding rounds of cuts (0.000 seconds)\n",
      "Knapsack was tried 0 times and created 0 cuts of which 0 were active after adding rounds of cuts (0.000 seconds)\n",
      "Clique was tried 0 times and created 0 cuts of which 0 were active after adding rounds of cuts (0.000 seconds)\n",
      "MixedIntegerRounding2 was tried 0 times and created 0 cuts of which 0 were active after adding rounds of cuts (0.000 seconds)\n",
      "FlowCover was tried 0 times and created 0 cuts of which 0 were active after adding rounds of cuts (0.000 seconds)\n",
      "TwoMirCuts was tried 0 times and created 0 cuts of which 0 were active after adding rounds of cuts (0.000 seconds)\n",
      "ZeroHalf was tried 0 times and created 0 cuts of which 0 were active after adding rounds of cuts (0.000 seconds)\n",
      "\n",
      "Result - Optimal solution found\n",
      "\n",
      "Objective value:                10.00000000\n",
      "Enumerated nodes:               0\n",
      "Total iterations:               0\n",
      "Time (CPU seconds):             0.01\n",
      "Time (Wallclock seconds):       0.01\n",
      "\n",
      "Total time (CPU seconds):       0.01   (Wallclock seconds):       0.01\n",
      "\n"
     ]
    }
   ],
   "source": [
    "# fonctionne pour JuMP version 0.21.5\n",
    "using Cbc\n",
    "using JuMP\n",
    "\n",
    "# data\n",
    "N = 3 # nombre de magasins disponibles\n",
    "C = [1 1;2 3;3 2] # prix ( Cij : cout de fluide j dans magasin i )\n",
    "S = [2.5 1;1 2;2 1] # Stock (Sij quantite de fluide j dans magasin i )\n",
    "D = [2 0;1 3] # Demande (Dij quantite de fluide j dans commande i )\n",
    "\n",
    "# set optimizer\n",
    "model = Model(Cbc.Optimizer)\n",
    "\n",
    "# define variables\n",
    "@variable(model, magasinCoef[1:3, 1:2 , 1:2] >= 0,Int) \n",
    "\n",
    "# define objective function\n",
    "@objective(model, Min, sum(C.*sum(magasinCoef[:,:,k] for k in 1:2)))\n",
    "\n",
    "# define constraints\n",
    "for j in 1:2\n",
    "     for k in 1:2\n",
    "         @constraint(model, sum(magasinCoef[i,j,k] for i in 1:3) == D[k,j])\n",
    "     end \n",
    "end\n",
    "for j in 1:2\n",
    "     for i in 1:3\n",
    "         @constraint(model, sum(magasinCoef[i,j,k] for k in 1:2) <= S[i,j])\n",
    "     end\n",
    "end\n",
    "\n",
    "# run optimization\n",
    "optimize!(model)"
   ]
  },
  {
   "cell_type": "code",
   "execution_count": 8,
   "metadata": {},
   "outputs": [
    {
     "name": "stdout",
     "output_type": "stream",
     "text": [
      "Solution obtenue:\n",
      "\t benefice = 10.0\n",
      "\t Pour la demande 1\n",
      "\t quantite de F1 du magasin 1 = 1.0\n",
      "\t quantite de F1 du magasin 2 = 1.0\n",
      "\t quantite de F1 du magasin 3 = 0.0\n",
      "\t quantite de F2 du magasin 1 = 0.0\n",
      "\t quantite de F2 du magasin 2 = 0.0\n",
      "\t quantite de F2 du magasin 3 = 0.0\n",
      "\t Pour la demande 2\n",
      "\t quantite de F1 du magasin 1 = 1.0\n",
      "\t quantite de F1 du magasin 2 = 0.0\n",
      "\t quantite de F1 du magasin 3 = 0.0\n",
      "\t quantite de F2 du magasin 1 = 1.0\n",
      "\t quantite de F2 du magasin 2 = 1.0\n",
      "\t quantite de F2 du magasin 3 = 1.0\n"
     ]
    }
   ],
   "source": [
    "# print solution\n",
    "println(\"Solution obtenue:\")\n",
    "println(\"\\t benefice = $(objective_value(model))\")\n",
    "for k in 1:2\n",
    "    println(\"\\t Pour la demande $k\")\n",
    "    for j in 1:2\n",
    "        for i in 1:3\n",
    "                println(\"\\t quantite de F$j du magasin $i = $(value(magasinCoef[i, j,k]))\")\n",
    "        end\n",
    "    end\n",
    "end"
   ]
  }
 ],
 "metadata": {
  "kernelspec": {
   "display_name": "Julia 1.4.2",
   "language": "julia",
   "name": "julia-1.4"
  },
  "language_info": {
   "file_extension": ".jl",
   "mimetype": "application/julia",
   "name": "julia",
   "version": "1.4.2"
  }
 },
 "nbformat": 4,
 "nbformat_minor": 2
}
